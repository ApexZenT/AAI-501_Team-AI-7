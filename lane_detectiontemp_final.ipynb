{
  "metadata": {
    "kernelspec": {
      "language": "python",
      "display_name": "Python 3",
      "name": "python3"
    },
    "language_info": {
      "name": "python",
      "version": "3.10.14",
      "mimetype": "text/x-python",
      "codemirror_mode": {
        "name": "ipython",
        "version": 3
      },
      "pygments_lexer": "ipython3",
      "nbconvert_exporter": "python",
      "file_extension": ".py"
    },
    "kaggle": {
      "accelerator": "gpu",
      "dataSources": [
        {
          "sourceId": 2840219,
          "sourceType": "datasetVersion",
          "datasetId": 1724942
        },
        {
          "sourceId": 193993,
          "sourceType": "modelInstanceVersion",
          "isSourceIdPinned": true,
          "modelInstanceId": 165443,
          "modelId": 187766
        }
      ],
      "dockerImageVersionId": 30804,
      "isInternetEnabled": false,
      "language": "python",
      "sourceType": "notebook",
      "isGpuEnabled": true
    },
    "colab": {
      "provenance": []
    }
  },
  "nbformat_minor": 0,
  "nbformat": 4,
  "cells": [
    {
      "cell_type": "code",
      "source": [
        "\n",
        "import kagglehub\n",
        "\n",
        "import cv2\n",
        "import os\n",
        "import numpy as np\n",
        "import matplotlib.pyplot as plt\n",
        "\n",
        "import torch\n",
        "import torch.nn as nn\n",
        "import torch.optim as optim\n",
        "import torch.nn.init as init\n",
        "import torch.nn.functional as F\n",
        "from torch.utils.data import DataLoader\n",
        "from torch.optim.lr_scheduler import _LRScheduler\n",
        "\n",
        "from tqdm import tqdm  # For progress bar\n",
        "\n",
        "tusimple_path = kagglehub.dataset_download('manideep1108/tusimple')\n",
        "tusimple_path"
      ],
      "metadata": {
        "trusted": true,
        "execution": {
          "iopub.status.busy": "2024-12-11T02:28:29.001397Z",
          "iopub.execute_input": "2024-12-11T02:28:29.001901Z",
          "iopub.status.idle": "2024-12-11T02:28:33.254669Z",
          "shell.execute_reply.started": "2024-12-11T02:28:29.001861Z",
          "shell.execute_reply": "2024-12-11T02:28:33.253738Z"
        },
        "id": "U1c3JKZNEyB4",
        "outputId": "c43b8cca-d98b-41c6-9156-a4d79a8ea92c"
      },
      "outputs": [
        {
          "execution_count": 2,
          "output_type": "execute_result",
          "data": {
            "text/plain": "'/kaggle/input/tusimple'"
          },
          "metadata": {}
        }
      ],
      "execution_count": null
    },
    {
      "cell_type": "code",
      "source": [
        "# Global Variables\n",
        "DATASET_BASE_PATH = os.path.join(tusimple_path, \"TUSimple\")\n",
        "N_CLASSES_SEGMENTATION = 5 # for a maximum of 5 lanes\n",
        "# hyper parameters\n",
        "BATCH_SIZE = 16\n",
        "N_EPOCHS = 150\n",
        "LEARNING_RATE = 5e-4\n",
        "N_SAMPLES = None\n",
        "WIDTH = 512\n",
        "HEIGHT = 256"
      ],
      "metadata": {
        "trusted": true,
        "execution": {
          "iopub.status.busy": "2024-12-11T02:28:33.255601Z",
          "iopub.execute_input": "2024-12-11T02:28:33.255967Z",
          "iopub.status.idle": "2024-12-11T02:28:33.261040Z",
          "shell.execute_reply.started": "2024-12-11T02:28:33.255940Z",
          "shell.execute_reply": "2024-12-11T02:28:33.260026Z"
        },
        "id": "zoSJjIkwEyB5"
      },
      "outputs": [],
      "execution_count": null
    },
    {
      "cell_type": "code",
      "source": [
        "class LoadDataset(torch.utils.data.Dataset):\n",
        "    def __init__(self, train=True, size=(360, 640), num_samples=None):\n",
        "        self._base_path = DATASET_BASE_PATH\n",
        "        self._image_size = size\n",
        "        self._mode = \"train\" if train else \"test\"\n",
        "        self._file = \"train_val_gt.txt\" if train else \"test_gt.txt\"\n",
        "        self._data = []\n",
        "        self.num_samples = num_samples  # Number of samples to load (None for all)\n",
        "        self._process_image_path()\n",
        "\n",
        "    def _process_image_path(self):\n",
        "        folder = \"train_set\" if self._mode == \"train\" else \"test_set\"\n",
        "        list_file_path = os.path.join(self._base_path, \"train_set/seg_label/list/\", self._file)\n",
        "\n",
        "        with open(file=list_file_path) as file:\n",
        "            for lines in file:\n",
        "                line = lines.strip().split()\n",
        "                img_path = os.path.join(self._base_path, folder, line[0][1:])\n",
        "                lanes_path = os.path.join(self._base_path, \"train_set\", line[1][1:])\n",
        "                flags = [int(i) for i in line[2:]]\n",
        "                self._data.append([img_path, lanes_path, flags])\n",
        "\n",
        "        # Reduce the dataset if num_samples is specified\n",
        "        if self.num_samples is not None:\n",
        "            self._data = self._data[:self.num_samples]\n",
        "\n",
        "    def __len__(self):\n",
        "        return len(self._data)\n",
        "\n",
        "    def __getitem__(self, idx):\n",
        "        image_path = self._data[idx][0]\n",
        "        image = cv2.imread(image_path)\n",
        "        h, w, c = image.shape\n",
        "\n",
        "        # original image\n",
        "        original_image = image\n",
        "\n",
        "        # resized image\n",
        "        image = cv2.resize(image, self._image_size)  # resize accepts as (width, height)\n",
        "        image = cv2.cvtColor(image, cv2.COLOR_BGR2RGB)\n",
        "\n",
        "        # lanes image\n",
        "        lanes_image = cv2.imread(self._data[idx][1])\n",
        "        lanes_image = lanes_image[:, :, 1]  # lane info is in the second channel\n",
        "        lanes_image = cv2.resize(lanes_image, self._image_size)  # resize accepts as (width, height)\n",
        "\n",
        "\n",
        "        # Convert images to PyTorch tensors - optimized for deep learning\n",
        "        image = torch.from_numpy(image).float().permute((2,0,1))\n",
        "        lanes_image = torch.from_numpy(lanes_image.copy())\n",
        "        flags = torch.as_tensor(self._data[idx][2])\n",
        "\n",
        "        input = {\n",
        "            \"image\": image,\n",
        "            \"lanes_image\": lanes_image,\n",
        "            \"flags\": flags\n",
        "        }\n",
        "\n",
        "        return input\n"
      ],
      "metadata": {
        "trusted": true,
        "execution": {
          "iopub.status.busy": "2024-12-11T02:28:33.262964Z",
          "iopub.execute_input": "2024-12-11T02:28:33.263219Z",
          "iopub.status.idle": "2024-12-11T02:28:33.283414Z",
          "shell.execute_reply.started": "2024-12-11T02:28:33.263195Z",
          "shell.execute_reply": "2024-12-11T02:28:33.282693Z"
        },
        "id": "6hc622uqEyB6"
      },
      "outputs": [],
      "execution_count": null
    },
    {
      "cell_type": "code",
      "source": [
        "dataset = LoadDataset(size=(WIDTH, HEIGHT),num_samples= N_SAMPLES)\n",
        "train_size = int(0.80 * len(dataset))\n",
        "train_ds, val_ds = torch.utils.data.random_split(dataset, [train_size, len(dataset)-train_size])\n",
        "\n",
        "print(train_ds.__len__())\n",
        "print(val_ds.__len__())\n",
        "\n",
        "train_loader = DataLoader(train_ds, batch_size=16, shuffle=True, num_workers=4)\n",
        "val_loader = DataLoader(val_ds, batch_size=16, shuffle=False, num_workers=4)\n"
      ],
      "metadata": {
        "trusted": true,
        "execution": {
          "iopub.status.busy": "2024-12-11T02:28:33.284243Z",
          "iopub.execute_input": "2024-12-11T02:28:33.284565Z",
          "iopub.status.idle": "2024-12-11T02:28:33.354564Z",
          "shell.execute_reply.started": "2024-12-11T02:28:33.284525Z",
          "shell.execute_reply": "2024-12-11T02:28:33.353574Z"
        },
        "id": "ov4b0askEyB7",
        "outputId": "cdaee780-190f-4f4a-b723-2783a9375383"
      },
      "outputs": [
        {
          "name": "stdout",
          "text": "2900\n726\n",
          "output_type": "stream"
        }
      ],
      "execution_count": null
    },
    {
      "cell_type": "code",
      "source": [
        "train_ds[0]['image'].shape"
      ],
      "metadata": {
        "trusted": true,
        "execution": {
          "iopub.status.busy": "2024-12-11T02:28:33.355782Z",
          "iopub.execute_input": "2024-12-11T02:28:33.356090Z",
          "iopub.status.idle": "2024-12-11T02:28:33.478948Z",
          "shell.execute_reply.started": "2024-12-11T02:28:33.356062Z",
          "shell.execute_reply": "2024-12-11T02:28:33.477909Z"
        },
        "id": "TadrlIaiEyB8",
        "outputId": "e5901795-f40a-4461-f610-03779d93bfe2"
      },
      "outputs": [
        {
          "execution_count": 6,
          "output_type": "execute_result",
          "data": {
            "text/plain": "torch.Size([3, 256, 512])"
          },
          "metadata": {}
        }
      ],
      "execution_count": null
    },
    {
      "cell_type": "code",
      "source": [
        "# ERFNet full model definition for Pytorch\n",
        "# Sept 2017\n",
        "# Eduardo Romera\n",
        "#######################\n",
        "\n",
        "\n",
        "class DownsamplerBlock (nn.Module):\n",
        "    def __init__(self, ninput, noutput):\n",
        "        super().__init__()\n",
        "\n",
        "        self.conv = nn.Conv2d(ninput, noutput-ninput, (3, 3), stride=2, padding=1, bias=True)\n",
        "        self.pool = nn.MaxPool2d(2, stride=2)\n",
        "        self.bn = nn.BatchNorm2d(noutput, eps=1e-3)\n",
        "\n",
        "    def forward(self, input):\n",
        "        output = torch.cat([self.conv(input), self.pool(input)], 1)\n",
        "        output = self.bn(output)\n",
        "        return F.relu(output)\n",
        "\n",
        "\n",
        "class non_bottleneck_1d (nn.Module):\n",
        "    def __init__(self, chann, dropprob, dilated):\n",
        "        super().__init__()\n",
        "\n",
        "        self.conv3x1_1 = nn.Conv2d(chann, chann, (3, 1), stride=1, padding=(1,0), bias=True)\n",
        "\n",
        "        self.conv1x3_1 = nn.Conv2d(chann, chann, (1,3), stride=1, padding=(0,1), bias=True)\n",
        "\n",
        "        self.bn1 = nn.BatchNorm2d(chann, eps=1e-03)\n",
        "\n",
        "        self.conv3x1_2 = nn.Conv2d(chann, chann, (3, 1), stride=1, padding=(1*dilated,0), bias=True, dilation = (dilated,1))\n",
        "\n",
        "        self.conv1x3_2 = nn.Conv2d(chann, chann, (1,3), stride=1, padding=(0,1*dilated), bias=True, dilation = (1, dilated))\n",
        "\n",
        "        self.bn2 = nn.BatchNorm2d(chann, eps=1e-03)\n",
        "\n",
        "        self.dropout = nn.Dropout2d(dropprob)\n",
        "\n",
        "\n",
        "    def forward(self, input):\n",
        "\n",
        "        output = self.conv3x1_1(input)\n",
        "        output = F.relu(output)\n",
        "        output = self.conv1x3_1(output)\n",
        "        output = self.bn1(output)\n",
        "        output = F.relu(output)\n",
        "\n",
        "        output = self.conv3x1_2(output)\n",
        "        output = F.relu(output)\n",
        "        output = self.conv1x3_2(output)\n",
        "        output = self.bn2(output)\n",
        "\n",
        "        if (self.dropout.p != 0):\n",
        "            output = self.dropout(output)\n",
        "\n",
        "        return F.relu(output+input)    #+input = identity (residual connection)\n",
        "\n",
        "\n",
        "class Encoder(nn.Module):\n",
        "    def __init__(self, num_classes):\n",
        "        super().__init__()\n",
        "        self.initial_block = DownsamplerBlock(3,16)\n",
        "\n",
        "        self.layers = nn.ModuleList()\n",
        "\n",
        "        self.layers.append(DownsamplerBlock(16,64))\n",
        "\n",
        "        for x in range(0, 5):    #5 times\n",
        "           self.layers.append(non_bottleneck_1d(64, 0.03, 1))\n",
        "\n",
        "        self.layers.append(DownsamplerBlock(64,128))\n",
        "\n",
        "        for x in range(0, 2):    #2 times\n",
        "            self.layers.append(non_bottleneck_1d(128, 0.3, 2))\n",
        "            self.layers.append(non_bottleneck_1d(128, 0.3, 4))\n",
        "            self.layers.append(non_bottleneck_1d(128, 0.3, 8))\n",
        "            self.layers.append(non_bottleneck_1d(128, 0.3, 16))\n",
        "\n",
        "        #Only in encoder mode:\n",
        "        self.output_conv = nn.Conv2d(128, num_classes, 1, stride=1, padding=0, bias=True)\n",
        "\n",
        "    def forward(self, input, predict=False):\n",
        "        output = self.initial_block(input)\n",
        "\n",
        "        for layer in self.layers:\n",
        "            output = layer(output)\n",
        "\n",
        "        if predict:\n",
        "            output = self.output_conv(output)\n",
        "\n",
        "        return output\n",
        "\n",
        "\n",
        "class UpsamplerBlock (nn.Module):\n",
        "    def __init__(self, ninput, noutput):\n",
        "        super().__init__()\n",
        "        self.conv = nn.ConvTranspose2d(ninput, noutput, 3, stride=2, padding=1, output_padding=1, bias=True)\n",
        "        self.bn = nn.BatchNorm2d(noutput, eps=1e-3)\n",
        "\n",
        "    def forward(self, input):\n",
        "        output = self.conv(input)\n",
        "        output = self.bn(output)\n",
        "        return F.relu(output)\n",
        "\n",
        "class Decoder (nn.Module):\n",
        "    def __init__(self, num_classes):\n",
        "        super().__init__()\n",
        "\n",
        "        self.layers = nn.ModuleList()\n",
        "\n",
        "        self.layers.append(UpsamplerBlock(128,64))\n",
        "        self.layers.append(non_bottleneck_1d(64, 0, 1))\n",
        "        self.layers.append(non_bottleneck_1d(64, 0, 1))\n",
        "\n",
        "        self.layers.append(UpsamplerBlock(64,16))\n",
        "        self.layers.append(non_bottleneck_1d(16, 0, 1))\n",
        "        self.layers.append(non_bottleneck_1d(16, 0, 1))\n",
        "\n",
        "        self.output_conv = nn.ConvTranspose2d( 16, num_classes, 2, stride=2, padding=0, output_padding=0, bias=True)\n",
        "\n",
        "    def forward(self, input):\n",
        "        output = input\n",
        "\n",
        "        for layer in self.layers:\n",
        "            output = layer(output)\n",
        "\n",
        "        output = self.output_conv(output)\n",
        "\n",
        "        return output\n",
        "\n",
        "#ERFNet\n",
        "class ERFNet(nn.Module):\n",
        "    def __init__(self, num_classes, encoder=None):  #use encoder to pass pretrained encoder\n",
        "        super().__init__()\n",
        "\n",
        "        if (encoder == None):\n",
        "            self.encoder = Encoder(num_classes)\n",
        "        else:\n",
        "            self.encoder = encoder\n",
        "        self.decoder = Decoder(num_classes)\n",
        "\n",
        "    def forward(self, input, only_encode=False):\n",
        "        if only_encode:\n",
        "            return self.encoder.forward(input, predict=True)\n",
        "        else:\n",
        "            output = self.encoder(input)    #predict=False by default\n",
        "            return self.decoder.forward(output)"
      ],
      "metadata": {
        "trusted": true,
        "execution": {
          "iopub.status.busy": "2024-12-11T02:28:33.480304Z",
          "iopub.execute_input": "2024-12-11T02:28:33.480611Z",
          "iopub.status.idle": "2024-12-11T02:28:33.501211Z",
          "shell.execute_reply.started": "2024-12-11T02:28:33.480585Z",
          "shell.execute_reply": "2024-12-11T02:28:33.500172Z"
        },
        "id": "bAF86-RSEyB8"
      },
      "outputs": [],
      "execution_count": null
    },
    {
      "cell_type": "code",
      "source": [
        "erfnet = ERFNet(num_classes = N_CLASSES_SEGMENTATION)"
      ],
      "metadata": {
        "trusted": true,
        "execution": {
          "iopub.status.busy": "2024-12-11T02:28:33.502271Z",
          "iopub.execute_input": "2024-12-11T02:28:33.502661Z",
          "iopub.status.idle": "2024-12-11T02:28:33.564576Z",
          "shell.execute_reply.started": "2024-12-11T02:28:33.502623Z",
          "shell.execute_reply": "2024-12-11T02:28:33.563646Z"
        },
        "id": "Go_X4v5qEyB9"
      },
      "outputs": [],
      "execution_count": null
    },
    {
      "cell_type": "code",
      "source": [
        "class HybridLR(_LRScheduler):\n",
        "    def __init__(self, optimizer, pow, max_iter, last_epoch=-1, warmup_epoch=0, min_lrs=1e-20):\n",
        "        self.warmup_epoch = max(warmup_epoch, 0)\n",
        "        self.pow = pow\n",
        "        self.max_iter = max_iter\n",
        "\n",
        "        self.min_lrs = min_lrs\n",
        "        super(HybridLR, self).__init__(optimizer, last_epoch)\n",
        "\n",
        "    def get_lr(self):\n",
        "        if self.last_epoch < self.warmup_epoch:\n",
        "            return [base_lr / self.warmup_epoch * (self.last_epoch+1) for base_lr in self.base_lrs]\n",
        "        if self.last_epoch < self.max_iter:\n",
        "            coeff = (1 - (self.last_epoch-self.warmup_epoch) / (self.max_iter-self.warmup_epoch)) ** self.pow\n",
        "        else:\n",
        "            coeff = 0\n",
        "        return [(base_lr - min_lr) * coeff + min_lr\n",
        "                for base_lr, min_lr in zip(self.base_lrs, self.min_lrs)]"
      ],
      "metadata": {
        "trusted": true,
        "execution": {
          "iopub.status.busy": "2024-12-11T02:28:33.565738Z",
          "iopub.execute_input": "2024-12-11T02:28:33.566050Z",
          "iopub.status.idle": "2024-12-11T02:28:33.572840Z",
          "shell.execute_reply.started": "2024-12-11T02:28:33.566023Z",
          "shell.execute_reply": "2024-12-11T02:28:33.571838Z"
        },
        "id": "SOaE-p_6EyB9"
      },
      "outputs": [],
      "execution_count": null
    },
    {
      "cell_type": "code",
      "source": [
        "def calculate_iou(pred, target, num_classes):\n",
        "    pred_labels = torch.argmax(pred, dim=1)  # [batch_size, height, width]\n",
        "    ious = []\n",
        "\n",
        "    for cls in range(num_classes):\n",
        "        # True Positive: Intersection\n",
        "        intersection = ((pred_labels == cls) & (target == cls)).sum().item()\n",
        "\n",
        "        # Union: (True Positive + False Positive + False Negative)\n",
        "        union = ((pred_labels == cls) | (target == cls)).sum().item()\n",
        "\n",
        "        if union == 0:\n",
        "            iou = float('nan')  # Avoid division by zero\n",
        "        else:\n",
        "            iou = intersection / union\n",
        "        ious.append(iou)\n",
        "\n",
        "    mean_iou = torch.tensor(ious).nanmean()  # Compute the mean IoU, ignoring NaNs\n",
        "\n",
        "    return ious, mean_iou\n",
        "\n",
        "# Example usage\n",
        "# Assuming pred is the model's output and target is the ground truth (both tensors are on the same device)\n",
        "pred = torch.randn(8, 5, 360, 640)  # Example output tensor\n",
        "target = torch.randint(0, 5, (8, 360, 640))  # Example ground truth with class indices\n"
      ],
      "metadata": {
        "trusted": true,
        "execution": {
          "iopub.status.busy": "2024-12-11T02:28:33.576282Z",
          "iopub.execute_input": "2024-12-11T02:28:33.576613Z",
          "iopub.status.idle": "2024-12-11T02:28:33.723416Z",
          "shell.execute_reply.started": "2024-12-11T02:28:33.576579Z",
          "shell.execute_reply": "2024-12-11T02:28:33.722708Z"
        },
        "id": "J33YAgmhEyB-"
      },
      "outputs": [],
      "execution_count": null
    },
    {
      "cell_type": "code",
      "source": [
        "# OLD LOSS\n",
        "# class CombinedLoss(nn.Module):\n",
        "#     def __init__(self, alpha=1.0, beta=1.0, gamma=1.0, epsilon=1e-6):\n",
        "#         super(CombinedLoss, self).__init__()\n",
        "#         self.alpha = alpha  # Weight for Cross-Entropy Loss\n",
        "#         self.beta = beta    # Weight for BCE Loss\n",
        "#         self.gamma = gamma  # Weight for Dice Loss\n",
        "#         self.epsilon = epsilon\n",
        "\n",
        "    # def forward(self, pred, target):\n",
        "    #     # Get dimensions\n",
        "    #     batchsize, classes, height, width = pred.size()\n",
        "\n",
        "    #     # Cross-Entropy Loss (multi-class)\n",
        "    #     ce_loss = F.cross_entropy(pred, target.long())\n",
        "\n",
        "    #     # Convert target to one-hot encoding for BCE and Dice Loss\n",
        "    #     target_one_hot = F.one_hot(target.long(), num_classes=NUM_CLASSES_SEGMENTATION).permute(0, 3, 1, 2).float()\n",
        "\n",
        "    #     # Binary Cross-Entropy Loss\n",
        "    #     bce_loss = F.binary_cross_entropy_with_logits(pred, target_one_hot)\n",
        "\n",
        "    #     # Dice Loss Calculation\n",
        "    #     pred_probs = F.softmax(pred, dim=1)  # Convert logits to probabilities\n",
        "    #     smooth = self.epsilon\n",
        "    #     intersection = (pred_probs * target_one_hot).sum(dim=(2, 3))\n",
        "    #     union = pred_probs.sum(dim=(2, 3)) + target_one_hot.sum(dim=(2, 3))\n",
        "    #     dice_loss = 1 - (2. * intersection + smooth) / (union + smooth)\n",
        "    #     dice_loss = dice_loss.mean()  # Average over the batch\n",
        "\n",
        "    #     # Combine the losses\n",
        "    #     total_loss = self.alpha * ce_loss + self.beta * bce_loss + self.gamma * dice_loss\n",
        "    #     return total_loss\n"
      ],
      "metadata": {
        "id": "X-TzCoQ_Fs1P"
      },
      "execution_count": null,
      "outputs": []
    },
    {
      "cell_type": "code",
      "source": [
        "class CombinedLoss(nn.Module):\n",
        "    def __init__(self):\n",
        "        super(CombinedLoss, self).__init__()\n",
        "        self.epsilon = 1e-9  # Small constant for numerical stability\n",
        "\n",
        "    def forward(self, pred, target):\n",
        "        batchsize, channel, height, width = pred.size()\n",
        "\n",
        "        target_one_hot = None\n",
        "        target= target.clamp(min=0, max=N_CLASSES_SEGMENTATION-1)\n",
        "        # Ensure target has the correct shape\n",
        "        if len(target.size()) == 3:\n",
        "            target_one_hot = F.one_hot(target.long(), num_classes=N_CLASSES_SEGMENTATION).permute((0,3,1,2)).float()\n",
        "\n",
        "            target = target.unsqueeze(dim=1)\n",
        "\n",
        "\n",
        "        loss = 0.0 # Initial total loss\n",
        "\n",
        "        # Convert logits to probabilities\n",
        "        p = F.softmax(pred, dim=1)  # Probability map for the current sample\n",
        "\n",
        "        # Loop over each sample in the batch\n",
        "        for i in range(batchsize):\n",
        "\n",
        "            ### Weighted Binary Cross Entripy Loss (WBCE Loss)\n",
        "            # Background and foreground masks\n",
        "            bg_mask = torch.eq(target[i], 0).float()  # Binary mask for background\n",
        "            fg_mask = 1 - bg_mask  # Binary mask for foreground\n",
        "\n",
        "            # Compute weights\n",
        "            total_pixels = target[i].numel()  # Total number of pixels\n",
        "            n_bg_pixels = bg_mask.sum()  # Number of background pixels\n",
        "            n_fg_pixels = total_pixels - n_bg_pixels  # Number of foreground pixels\n",
        "\n",
        "            bg_weight = n_bg_pixels / total_pixels  # Background weight\n",
        "            fg_weight = 1 - bg_weight  # Foreground weight\n",
        "\n",
        "            # Weighted BCE loss components\n",
        "\n",
        "            bg_term = torch.sum(bg_weight * bg_mask * torch.log(p[i][0] + self.epsilon))\n",
        "            fg_term = torch.sum(fg_weight * fg_mask * torch.log(torch.sum(p[i][1:], dim=0) + self.epsilon))\n",
        "\n",
        "            # Normalize and combine terms\n",
        "            wbce_loss = - (1 / total_pixels) * (bg_term + fg_term)\n",
        "\n",
        "            ### DICE loss\n",
        "            # Accumulate loss\n",
        "            loss += wbce_loss\n",
        "            # print(p[i].shape, target_one_hot[i].shape)\n",
        "\n",
        "            intersection = (p[i] * target_one_hot[i]).sum(dim=(1,2))\n",
        "            union = p[i].sum(dim=(1,2)) + target_one_hot[i].sum(dim=(1,2))\n",
        "\n",
        "            dice_loss = 1 - torch.mean((2.0 * intersection + self.epsilon) / (union + self.epsilon))\n",
        "\n",
        "            loss += dice_loss\n",
        "\n",
        "        # Average loss over the batch\n",
        "        return loss / batchsize\n"
      ],
      "metadata": {
        "trusted": true,
        "execution": {
          "iopub.status.busy": "2024-12-11T02:28:33.724709Z",
          "iopub.execute_input": "2024-12-11T02:28:33.725243Z",
          "iopub.status.idle": "2024-12-11T02:28:33.735612Z",
          "shell.execute_reply.started": "2024-12-11T02:28:33.725199Z",
          "shell.execute_reply": "2024-12-11T02:28:33.734593Z"
        },
        "id": "GSjCecT8EyB-"
      },
      "outputs": [],
      "execution_count": null
    },
    {
      "cell_type": "code",
      "source": [
        "def train_model(model, train_loader, val_loader, optimizer, loss_fn, num_epochs, device, num_classes):\n",
        "    model.to(device)\n",
        "    best_val_loss = float(\"inf\")\n",
        "\n",
        "    for epoch in range(num_epochs):\n",
        "        print(f\"Epoch {epoch+1}/{num_epochs}\")\n",
        "        model.train()\n",
        "\n",
        "        running_loss = 0.0\n",
        "        train_iou_scores = []\n",
        "\n",
        "        for batch in tqdm(train_loader):\n",
        "            # Load data\n",
        "            images = batch[\"image\"].to(device)\n",
        "            lanes_image = batch[\"lanes_image\"].to(device)\n",
        "\n",
        "            # Zero gradients\n",
        "            optimizer.zero_grad()\n",
        "\n",
        "            # # Forward pass\n",
        "            outputs = model(images)  # [batch_size, num_classes, H, W]\n",
        "\n",
        "            # Compute loss\n",
        "            loss = loss_fn(outputs, lanes_image)\n",
        "            running_loss += loss.item()\n",
        "\n",
        "            # Backward pass and optimization\n",
        "            loss.backward()\n",
        "            optimizer.step()\n",
        "\n",
        "            # Calculate IoU\n",
        "            # predicted_classes = torch.argmax(outputs, dim=1)  # Convert logits to class indices\n",
        "            # print(predicted_classes.shape)  # Expected shape: [batch_size, height, width]\n",
        "\n",
        "            _, batch_mean_iou = calculate_iou(outputs, lanes_image, num_classes)\n",
        "            train_iou_scores.append(batch_mean_iou)\n",
        "\n",
        "        avg_train_loss = running_loss / len(train_loader)\n",
        "        avg_train_iou = sum(train_iou_scores) / len(train_iou_scores)\n",
        "        print(f\"Epoch {epoch + 1}/{num_epochs}, Loss: {avg_train_loss:.4f}, Train IoU: {avg_train_iou:.4f}\")\n",
        "\n",
        "        # Validation Step\n",
        "        if val_loader is not None:\n",
        "            val_loss, val_mean_iou = validate_model(model, val_loader, loss_fn, device, num_classes)\n",
        "            print(f\"Validation Loss: {val_loss:.4f}, Validation IoU: {val_mean_iou:.4f}\")\n",
        "\n",
        "            # Save the model if validation improves\n",
        "            if val_loss < best_val_loss:\n",
        "                best_val_loss = val_loss\n",
        "                torch.save(model.state_dict(), \"erfnet_tusimple.pth\")\n",
        "                print(\"Saved Best Model\")\n",
        "\n",
        "def validate_model(model, val_loader, loss_fn, device, num_classes):\n",
        "    model.eval()\n",
        "    val_loss = 0.0\n",
        "    val_iou_scores = []\n",
        "\n",
        "    with torch.no_grad():\n",
        "        for batch in val_loader:\n",
        "            images = batch[\"image\"].to(device)\n",
        "            lanes_image = batch[\"lanes_image\"].to(device)\n",
        "\n",
        "            # Forward pass\n",
        "            outputs = model(images)\n",
        "\n",
        "            # Compute loss\n",
        "            loss = loss_fn(outputs, lanes_image)\n",
        "            val_loss += loss.item()\n",
        "\n",
        "            # Calculate IoU\n",
        "             # Expected shape: [batch_size, height, width]\n",
        "            _, batch_mean_iou = calculate_iou(outputs, lanes_image, num_classes)\n",
        "            val_iou_scores.append(batch_mean_iou)\n",
        "\n",
        "    avg_val_iou = sum(val_iou_scores) / len(val_iou_scores)\n",
        "    return val_loss / len(val_loader), avg_val_iou\n"
      ],
      "metadata": {
        "trusted": true,
        "execution": {
          "iopub.status.busy": "2024-12-11T02:28:33.737181Z",
          "iopub.execute_input": "2024-12-11T02:28:33.737568Z",
          "iopub.status.idle": "2024-12-11T02:28:33.750306Z",
          "shell.execute_reply.started": "2024-12-11T02:28:33.737505Z",
          "shell.execute_reply": "2024-12-11T02:28:33.749386Z"
        },
        "id": "bc_cgzp4EyB_"
      },
      "outputs": [],
      "execution_count": null
    },
    {
      "cell_type": "code",
      "source": [
        "device = torch.device(\"cuda\" if torch.cuda.is_available() else \"cpu\")\n",
        "optimizer = optim.Adam(erfnet.parameters(), lr= LEARNING_RATE)\n",
        "lr_scheduler = HybridLR(optimizer, 0.9, warmup_epoch= 20, max_iter= 30000)\n",
        "loss_fn = CombinedLoss()"
      ],
      "metadata": {
        "trusted": true,
        "execution": {
          "iopub.status.busy": "2024-12-11T02:28:33.751589Z",
          "iopub.execute_input": "2024-12-11T02:28:33.751913Z",
          "iopub.status.idle": "2024-12-11T02:28:34.667814Z",
          "shell.execute_reply.started": "2024-12-11T02:28:33.751887Z",
          "shell.execute_reply": "2024-12-11T02:28:34.666705Z"
        },
        "id": "4pkt7JUAEyB_"
      },
      "outputs": [],
      "execution_count": null
    },
    {
      "cell_type": "code",
      "source": [
        "train_model(erfnet, train_loader, val_loader, optimizer, loss_fn, N_EPOCHS, device, num_classes = N_CLASSES_SEGMENTATION)"
      ],
      "metadata": {
        "trusted": true,
        "execution": {
          "iopub.status.busy": "2024-12-11T02:28:34.669074Z",
          "iopub.execute_input": "2024-12-11T02:28:34.669482Z",
          "iopub.status.idle": "2024-12-11T04:53:57.714937Z",
          "shell.execute_reply.started": "2024-12-11T02:28:34.669454Z",
          "shell.execute_reply": "2024-12-11T04:53:57.713632Z"
        },
        "id": "940ch4BiEyB_",
        "outputId": "ce927d17-9a50-4d35-c038-85b9c3ae36ba"
      },
      "outputs": [
        {
          "name": "stdout",
          "text": "Epoch 1/150\n",
          "output_type": "stream"
        },
        {
          "name": "stderr",
          "text": "100%|██████████| 182/182 [00:52<00:00,  3.46it/s]",
          "output_type": "stream"
        },
        {
          "name": "stdout",
          "text": "Epoch 1/150, Loss: 2.3201, Train IoU: 0.0750\n",
          "output_type": "stream"
        },
        {
          "name": "stderr",
          "text": "\n",
          "output_type": "stream"
        },
        {
          "name": "stdout",
          "text": "Validation Loss: 2.2167, Validation IoU: 0.0945\nSaved Best Model\nEpoch 2/150\n",
          "output_type": "stream"
        },
        {
          "name": "stderr",
          "text": "100%|██████████| 182/182 [00:50<00:00,  3.59it/s]",
          "output_type": "stream"
        },
        {
          "name": "stdout",
          "text": "Epoch 2/150, Loss: 2.1224, Train IoU: 0.0955\n",
          "output_type": "stream"
        },
        {
          "name": "stderr",
          "text": "\n",
          "output_type": "stream"
        },
        {
          "name": "stdout",
          "text": "Validation Loss: 2.0638, Validation IoU: 0.1035\nSaved Best Model\nEpoch 3/150\n",
          "output_type": "stream"
        },
        {
          "name": "stderr",
          "text": "100%|██████████| 182/182 [00:50<00:00,  3.59it/s]",
          "output_type": "stream"
        },
        {
          "name": "stdout",
          "text": "Epoch 3/150, Loss: 1.9662, Train IoU: 0.1190\n",
          "output_type": "stream"
        },
        {
          "name": "stderr",
          "text": "\n",
          "output_type": "stream"
        },
        {
          "name": "stdout",
          "text": "Validation Loss: 1.9022, Validation IoU: 0.1328\nSaved Best Model\nEpoch 4/150\n",
          "output_type": "stream"
        },
        {
          "name": "stderr",
          "text": "100%|██████████| 182/182 [00:51<00:00,  3.56it/s]",
          "output_type": "stream"
        },
        {
          "name": "stdout",
          "text": "Epoch 4/150, Loss: 1.8374, Train IoU: 0.1344\n",
          "output_type": "stream"
        },
        {
          "name": "stderr",
          "text": "\n",
          "output_type": "stream"
        },
        {
          "name": "stdout",
          "text": "Validation Loss: 1.8136, Validation IoU: 0.1361\nSaved Best Model\nEpoch 5/150\n",
          "output_type": "stream"
        },
        {
          "name": "stderr",
          "text": "100%|██████████| 182/182 [00:50<00:00,  3.58it/s]",
          "output_type": "stream"
        },
        {
          "name": "stdout",
          "text": "Epoch 5/150, Loss: 1.7247, Train IoU: 0.1388\n",
          "output_type": "stream"
        },
        {
          "name": "stderr",
          "text": "\n",
          "output_type": "stream"
        },
        {
          "name": "stdout",
          "text": "Validation Loss: 1.6886, Validation IoU: 0.1406\nSaved Best Model\nEpoch 6/150\n",
          "output_type": "stream"
        },
        {
          "name": "stderr",
          "text": "100%|██████████| 182/182 [00:50<00:00,  3.58it/s]",
          "output_type": "stream"
        },
        {
          "name": "stdout",
          "text": "Epoch 6/150, Loss: 1.6245, Train IoU: 0.1529\n",
          "output_type": "stream"
        },
        {
          "name": "stderr",
          "text": "\n",
          "output_type": "stream"
        },
        {
          "name": "stdout",
          "text": "Validation Loss: 1.5796, Validation IoU: 0.1689\nSaved Best Model\nEpoch 7/150\n",
          "output_type": "stream"
        },
        {
          "name": "stderr",
          "text": "100%|██████████| 182/182 [00:50<00:00,  3.58it/s]",
          "output_type": "stream"
        },
        {
          "name": "stdout",
          "text": "Epoch 7/150, Loss: 1.5320, Train IoU: 0.1732\n",
          "output_type": "stream"
        },
        {
          "name": "stderr",
          "text": "\n",
          "output_type": "stream"
        },
        {
          "name": "stdout",
          "text": "Validation Loss: 1.4959, Validation IoU: 0.1776\nSaved Best Model\nEpoch 8/150\n",
          "output_type": "stream"
        },
        {
          "name": "stderr",
          "text": "100%|██████████| 182/182 [00:50<00:00,  3.58it/s]",
          "output_type": "stream"
        },
        {
          "name": "stdout",
          "text": "Epoch 8/150, Loss: 1.4486, Train IoU: 0.1835\n",
          "output_type": "stream"
        },
        {
          "name": "stderr",
          "text": "\n",
          "output_type": "stream"
        },
        {
          "name": "stdout",
          "text": "Validation Loss: 1.4116, Validation IoU: 0.1889\nSaved Best Model\nEpoch 9/150\n",
          "output_type": "stream"
        },
        {
          "name": "stderr",
          "text": "100%|██████████| 182/182 [00:50<00:00,  3.58it/s]",
          "output_type": "stream"
        },
        {
          "name": "stdout",
          "text": "Epoch 9/150, Loss: 1.3743, Train IoU: 0.1904\n",
          "output_type": "stream"
        },
        {
          "name": "stderr",
          "text": "\n",
          "output_type": "stream"
        },
        {
          "name": "stdout",
          "text": "Validation Loss: 1.3440, Validation IoU: 0.1907\nSaved Best Model\nEpoch 10/150\n",
          "output_type": "stream"
        },
        {
          "name": "stderr",
          "text": "100%|██████████| 182/182 [00:50<00:00,  3.58it/s]",
          "output_type": "stream"
        },
        {
          "name": "stdout",
          "text": "Epoch 10/150, Loss: 1.3079, Train IoU: 0.1908\n",
          "output_type": "stream"
        },
        {
          "name": "stderr",
          "text": "\n",
          "output_type": "stream"
        },
        {
          "name": "stdout",
          "text": "Validation Loss: 1.2850, Validation IoU: 0.1906\nSaved Best Model\nEpoch 11/150\n",
          "output_type": "stream"
        },
        {
          "name": "stderr",
          "text": "100%|██████████| 182/182 [00:50<00:00,  3.59it/s]",
          "output_type": "stream"
        },
        {
          "name": "stdout",
          "text": "Epoch 11/150, Loss: 1.2484, Train IoU: 0.1909\n",
          "output_type": "stream"
        },
        {
          "name": "stderr",
          "text": "\n",
          "output_type": "stream"
        },
        {
          "name": "stdout",
          "text": "Validation Loss: 1.2235, Validation IoU: 0.1909\nSaved Best Model\nEpoch 12/150\n",
          "output_type": "stream"
        },
        {
          "name": "stderr",
          "text": "100%|██████████| 182/182 [00:50<00:00,  3.58it/s]",
          "output_type": "stream"
        },
        {
          "name": "stdout",
          "text": "Epoch 12/150, Loss: 1.1939, Train IoU: 0.1910\n",
          "output_type": "stream"
        },
        {
          "name": "stderr",
          "text": "\n",
          "output_type": "stream"
        },
        {
          "name": "stdout",
          "text": "Validation Loss: 1.1758, Validation IoU: 0.1909\nSaved Best Model\nEpoch 13/150\n",
          "output_type": "stream"
        },
        {
          "name": "stderr",
          "text": "100%|██████████| 182/182 [00:50<00:00,  3.57it/s]",
          "output_type": "stream"
        },
        {
          "name": "stdout",
          "text": "Epoch 13/150, Loss: 1.1446, Train IoU: 0.1910\n",
          "output_type": "stream"
        },
        {
          "name": "stderr",
          "text": "\n",
          "output_type": "stream"
        },
        {
          "name": "stdout",
          "text": "Validation Loss: 1.1310, Validation IoU: 0.1909\nSaved Best Model\nEpoch 14/150\n",
          "output_type": "stream"
        },
        {
          "name": "stderr",
          "text": "100%|██████████| 182/182 [00:50<00:00,  3.57it/s]",
          "output_type": "stream"
        },
        {
          "name": "stdout",
          "text": "Epoch 14/150, Loss: 1.1021, Train IoU: 0.1910\n",
          "output_type": "stream"
        },
        {
          "name": "stderr",
          "text": "\n",
          "output_type": "stream"
        },
        {
          "name": "stdout",
          "text": "Validation Loss: 1.0952, Validation IoU: 0.1908\nSaved Best Model\nEpoch 15/150\n",
          "output_type": "stream"
        },
        {
          "name": "stderr",
          "text": "100%|██████████| 182/182 [00:50<00:00,  3.57it/s]",
          "output_type": "stream"
        },
        {
          "name": "stdout",
          "text": "Epoch 15/150, Loss: 1.0657, Train IoU: 0.1910\n",
          "output_type": "stream"
        },
        {
          "name": "stderr",
          "text": "\n",
          "output_type": "stream"
        },
        {
          "name": "stdout",
          "text": "Validation Loss: 1.0539, Validation IoU: 0.1910\nSaved Best Model\nEpoch 16/150\n",
          "output_type": "stream"
        },
        {
          "name": "stderr",
          "text": "100%|██████████| 182/182 [00:50<00:00,  3.57it/s]",
          "output_type": "stream"
        },
        {
          "name": "stdout",
          "text": "Epoch 16/150, Loss: 1.0336, Train IoU: 0.1910\n",
          "output_type": "stream"
        },
        {
          "name": "stderr",
          "text": "\n",
          "output_type": "stream"
        },
        {
          "name": "stdout",
          "text": "Validation Loss: 1.0229, Validation IoU: 0.1910\nSaved Best Model\nEpoch 17/150\n",
          "output_type": "stream"
        },
        {
          "name": "stderr",
          "text": "100%|██████████| 182/182 [00:50<00:00,  3.57it/s]",
          "output_type": "stream"
        },
        {
          "name": "stdout",
          "text": "Epoch 17/150, Loss: 1.0028, Train IoU: 0.1910\n",
          "output_type": "stream"
        },
        {
          "name": "stderr",
          "text": "\n",
          "output_type": "stream"
        },
        {
          "name": "stdout",
          "text": "Validation Loss: 0.9878, Validation IoU: 0.1910\nSaved Best Model\nEpoch 18/150\n",
          "output_type": "stream"
        },
        {
          "name": "stderr",
          "text": "100%|██████████| 182/182 [00:50<00:00,  3.58it/s]",
          "output_type": "stream"
        },
        {
          "name": "stdout",
          "text": "Epoch 18/150, Loss: 0.9708, Train IoU: 0.1916\n",
          "output_type": "stream"
        },
        {
          "name": "stderr",
          "text": "\n",
          "output_type": "stream"
        },
        {
          "name": "stdout",
          "text": "Validation Loss: 0.9621, Validation IoU: 0.1954\nSaved Best Model\nEpoch 19/150\n",
          "output_type": "stream"
        },
        {
          "name": "stderr",
          "text": "100%|██████████| 182/182 [00:51<00:00,  3.57it/s]",
          "output_type": "stream"
        },
        {
          "name": "stdout",
          "text": "Epoch 19/150, Loss: 0.9401, Train IoU: 0.2139\n",
          "output_type": "stream"
        },
        {
          "name": "stderr",
          "text": "\n",
          "output_type": "stream"
        },
        {
          "name": "stdout",
          "text": "Validation Loss: 0.9243, Validation IoU: 0.2361\nSaved Best Model\nEpoch 20/150\n",
          "output_type": "stream"
        },
        {
          "name": "stderr",
          "text": "100%|██████████| 182/182 [00:51<00:00,  3.55it/s]",
          "output_type": "stream"
        },
        {
          "name": "stdout",
          "text": "Epoch 20/150, Loss: 0.9033, Train IoU: 0.2360\n",
          "output_type": "stream"
        },
        {
          "name": "stderr",
          "text": "\n",
          "output_type": "stream"
        },
        {
          "name": "stdout",
          "text": "Validation Loss: 0.8899, Validation IoU: 0.2369\nSaved Best Model\nEpoch 21/150\n",
          "output_type": "stream"
        },
        {
          "name": "stderr",
          "text": "100%|██████████| 182/182 [00:51<00:00,  3.56it/s]",
          "output_type": "stream"
        },
        {
          "name": "stdout",
          "text": "Epoch 21/150, Loss: 0.8727, Train IoU: 0.2380\n",
          "output_type": "stream"
        },
        {
          "name": "stderr",
          "text": "\n",
          "output_type": "stream"
        },
        {
          "name": "stdout",
          "text": "Validation Loss: 0.8619, Validation IoU: 0.2407\nSaved Best Model\nEpoch 22/150\n",
          "output_type": "stream"
        },
        {
          "name": "stderr",
          "text": "100%|██████████| 182/182 [00:51<00:00,  3.56it/s]",
          "output_type": "stream"
        },
        {
          "name": "stdout",
          "text": "Epoch 22/150, Loss: 0.8450, Train IoU: 0.2553\n",
          "output_type": "stream"
        },
        {
          "name": "stderr",
          "text": "\n",
          "output_type": "stream"
        },
        {
          "name": "stdout",
          "text": "Validation Loss: 0.8364, Validation IoU: 0.2740\nSaved Best Model\nEpoch 23/150\n",
          "output_type": "stream"
        },
        {
          "name": "stderr",
          "text": "100%|██████████| 182/182 [00:50<00:00,  3.57it/s]",
          "output_type": "stream"
        },
        {
          "name": "stdout",
          "text": "Epoch 23/150, Loss: 0.8174, Train IoU: 0.2822\n",
          "output_type": "stream"
        },
        {
          "name": "stderr",
          "text": "\n",
          "output_type": "stream"
        },
        {
          "name": "stdout",
          "text": "Validation Loss: 0.8042, Validation IoU: 0.2907\nSaved Best Model\nEpoch 24/150\n",
          "output_type": "stream"
        },
        {
          "name": "stderr",
          "text": "100%|██████████| 182/182 [00:50<00:00,  3.58it/s]",
          "output_type": "stream"
        },
        {
          "name": "stdout",
          "text": "Epoch 24/150, Loss: 0.7898, Train IoU: 0.2963\n",
          "output_type": "stream"
        },
        {
          "name": "stderr",
          "text": "\n",
          "output_type": "stream"
        },
        {
          "name": "stdout",
          "text": "Validation Loss: 0.7764, Validation IoU: 0.3067\nSaved Best Model\nEpoch 25/150\n",
          "output_type": "stream"
        },
        {
          "name": "stderr",
          "text": "100%|██████████| 182/182 [00:50<00:00,  3.59it/s]",
          "output_type": "stream"
        },
        {
          "name": "stdout",
          "text": "Epoch 25/150, Loss: 0.7619, Train IoU: 0.3146\n",
          "output_type": "stream"
        },
        {
          "name": "stderr",
          "text": "\n",
          "output_type": "stream"
        },
        {
          "name": "stdout",
          "text": "Validation Loss: 0.7459, Validation IoU: 0.3240\nSaved Best Model\nEpoch 26/150\n",
          "output_type": "stream"
        },
        {
          "name": "stderr",
          "text": "100%|██████████| 182/182 [00:50<00:00,  3.59it/s]",
          "output_type": "stream"
        },
        {
          "name": "stdout",
          "text": "Epoch 26/150, Loss: 0.7326, Train IoU: 0.3305\n",
          "output_type": "stream"
        },
        {
          "name": "stderr",
          "text": "\n",
          "output_type": "stream"
        },
        {
          "name": "stdout",
          "text": "Validation Loss: 0.7149, Validation IoU: 0.3468\nSaved Best Model\nEpoch 27/150\n",
          "output_type": "stream"
        },
        {
          "name": "stderr",
          "text": "100%|██████████| 182/182 [00:50<00:00,  3.58it/s]",
          "output_type": "stream"
        },
        {
          "name": "stdout",
          "text": "Epoch 27/150, Loss: 0.7003, Train IoU: 0.3742\n",
          "output_type": "stream"
        },
        {
          "name": "stderr",
          "text": "\n",
          "output_type": "stream"
        },
        {
          "name": "stdout",
          "text": "Validation Loss: 0.6823, Validation IoU: 0.4023\nSaved Best Model\nEpoch 28/150\n",
          "output_type": "stream"
        },
        {
          "name": "stderr",
          "text": "100%|██████████| 182/182 [00:50<00:00,  3.60it/s]",
          "output_type": "stream"
        },
        {
          "name": "stdout",
          "text": "Epoch 28/150, Loss: 0.6688, Train IoU: 0.4099\n",
          "output_type": "stream"
        },
        {
          "name": "stderr",
          "text": "\n",
          "output_type": "stream"
        },
        {
          "name": "stdout",
          "text": "Validation Loss: 0.6535, Validation IoU: 0.4163\nSaved Best Model\nEpoch 29/150\n",
          "output_type": "stream"
        },
        {
          "name": "stderr",
          "text": "100%|██████████| 182/182 [00:50<00:00,  3.60it/s]",
          "output_type": "stream"
        },
        {
          "name": "stdout",
          "text": "Epoch 29/150, Loss: 0.6393, Train IoU: 0.4185\n",
          "output_type": "stream"
        },
        {
          "name": "stderr",
          "text": "\n",
          "output_type": "stream"
        },
        {
          "name": "stdout",
          "text": "Validation Loss: 0.6252, Validation IoU: 0.4227\nSaved Best Model\nEpoch 30/150\n",
          "output_type": "stream"
        },
        {
          "name": "stderr",
          "text": "100%|██████████| 182/182 [00:50<00:00,  3.60it/s]",
          "output_type": "stream"
        },
        {
          "name": "stdout",
          "text": "Epoch 30/150, Loss: 0.6114, Train IoU: 0.4367\n",
          "output_type": "stream"
        },
        {
          "name": "stderr",
          "text": "\n",
          "output_type": "stream"
        },
        {
          "name": "stdout",
          "text": "Validation Loss: 0.5960, Validation IoU: 0.4549\nSaved Best Model\nEpoch 31/150\n",
          "output_type": "stream"
        },
        {
          "name": "stderr",
          "text": "100%|██████████| 182/182 [00:50<00:00,  3.59it/s]",
          "output_type": "stream"
        },
        {
          "name": "stdout",
          "text": "Epoch 31/150, Loss: 0.5836, Train IoU: 0.4582\n",
          "output_type": "stream"
        },
        {
          "name": "stderr",
          "text": "\n",
          "output_type": "stream"
        },
        {
          "name": "stdout",
          "text": "Validation Loss: 0.5734, Validation IoU: 0.4581\nSaved Best Model\nEpoch 32/150\n",
          "output_type": "stream"
        },
        {
          "name": "stderr",
          "text": "100%|██████████| 182/182 [00:50<00:00,  3.57it/s]",
          "output_type": "stream"
        },
        {
          "name": "stdout",
          "text": "Epoch 32/150, Loss: 0.5631, Train IoU: 0.4617\n",
          "output_type": "stream"
        },
        {
          "name": "stderr",
          "text": "\n",
          "output_type": "stream"
        },
        {
          "name": "stdout",
          "text": "Validation Loss: 0.5554, Validation IoU: 0.4605\nSaved Best Model\nEpoch 33/150\n",
          "output_type": "stream"
        },
        {
          "name": "stderr",
          "text": "100%|██████████| 182/182 [00:50<00:00,  3.57it/s]",
          "output_type": "stream"
        },
        {
          "name": "stdout",
          "text": "Epoch 33/150, Loss: 0.5449, Train IoU: 0.4649\n",
          "output_type": "stream"
        },
        {
          "name": "stderr",
          "text": "\n",
          "output_type": "stream"
        },
        {
          "name": "stdout",
          "text": "Validation Loss: 0.5411, Validation IoU: 0.4601\nSaved Best Model\nEpoch 34/150\n",
          "output_type": "stream"
        },
        {
          "name": "stderr",
          "text": "100%|██████████| 182/182 [00:50<00:00,  3.57it/s]",
          "output_type": "stream"
        },
        {
          "name": "stdout",
          "text": "Epoch 34/150, Loss: 0.5300, Train IoU: 0.4668\n",
          "output_type": "stream"
        },
        {
          "name": "stderr",
          "text": "\n",
          "output_type": "stream"
        },
        {
          "name": "stdout",
          "text": "Validation Loss: 0.5290, Validation IoU: 0.4617\nSaved Best Model\nEpoch 35/150\n",
          "output_type": "stream"
        },
        {
          "name": "stderr",
          "text": "100%|██████████| 182/182 [00:51<00:00,  3.56it/s]",
          "output_type": "stream"
        },
        {
          "name": "stdout",
          "text": "Epoch 35/150, Loss: 0.5171, Train IoU: 0.4688\n",
          "output_type": "stream"
        },
        {
          "name": "stderr",
          "text": "\n",
          "output_type": "stream"
        },
        {
          "name": "stdout",
          "text": "Validation Loss: 0.5171, Validation IoU: 0.4643\nSaved Best Model\nEpoch 36/150\n",
          "output_type": "stream"
        },
        {
          "name": "stderr",
          "text": "100%|██████████| 182/182 [00:51<00:00,  3.56it/s]",
          "output_type": "stream"
        },
        {
          "name": "stdout",
          "text": "Epoch 36/150, Loss: 0.5055, Train IoU: 0.4714\n",
          "output_type": "stream"
        },
        {
          "name": "stderr",
          "text": "\n",
          "output_type": "stream"
        },
        {
          "name": "stdout",
          "text": "Validation Loss: 0.5065, Validation IoU: 0.4659\nSaved Best Model\nEpoch 37/150\n",
          "output_type": "stream"
        },
        {
          "name": "stderr",
          "text": "100%|██████████| 182/182 [00:51<00:00,  3.57it/s]",
          "output_type": "stream"
        },
        {
          "name": "stdout",
          "text": "Epoch 37/150, Loss: 0.4961, Train IoU: 0.4730\n",
          "output_type": "stream"
        },
        {
          "name": "stderr",
          "text": "\n",
          "output_type": "stream"
        },
        {
          "name": "stdout",
          "text": "Validation Loss: 0.5002, Validation IoU: 0.4647\nSaved Best Model\nEpoch 38/150\n",
          "output_type": "stream"
        },
        {
          "name": "stderr",
          "text": "100%|██████████| 182/182 [00:50<00:00,  3.57it/s]",
          "output_type": "stream"
        },
        {
          "name": "stdout",
          "text": "Epoch 38/150, Loss: 0.4868, Train IoU: 0.4748\n",
          "output_type": "stream"
        },
        {
          "name": "stderr",
          "text": "\n",
          "output_type": "stream"
        },
        {
          "name": "stdout",
          "text": "Validation Loss: 0.4914, Validation IoU: 0.4670\nSaved Best Model\nEpoch 39/150\n",
          "output_type": "stream"
        },
        {
          "name": "stderr",
          "text": "100%|██████████| 182/182 [00:51<00:00,  3.57it/s]",
          "output_type": "stream"
        },
        {
          "name": "stdout",
          "text": "Epoch 39/150, Loss: 0.4793, Train IoU: 0.4768\n",
          "output_type": "stream"
        },
        {
          "name": "stderr",
          "text": "\n",
          "output_type": "stream"
        },
        {
          "name": "stdout",
          "text": "Validation Loss: 0.4854, Validation IoU: 0.4684\nSaved Best Model\nEpoch 40/150\n",
          "output_type": "stream"
        },
        {
          "name": "stderr",
          "text": "100%|██████████| 182/182 [00:51<00:00,  3.55it/s]",
          "output_type": "stream"
        },
        {
          "name": "stdout",
          "text": "Epoch 40/150, Loss: 0.4722, Train IoU: 0.4780\n",
          "output_type": "stream"
        },
        {
          "name": "stderr",
          "text": "\n",
          "output_type": "stream"
        },
        {
          "name": "stdout",
          "text": "Validation Loss: 0.4799, Validation IoU: 0.4694\nSaved Best Model\nEpoch 41/150\n",
          "output_type": "stream"
        },
        {
          "name": "stderr",
          "text": "100%|██████████| 182/182 [00:51<00:00,  3.57it/s]",
          "output_type": "stream"
        },
        {
          "name": "stdout",
          "text": "Epoch 41/150, Loss: 0.4664, Train IoU: 0.4798\n",
          "output_type": "stream"
        },
        {
          "name": "stderr",
          "text": "\n",
          "output_type": "stream"
        },
        {
          "name": "stdout",
          "text": "Validation Loss: 0.4768, Validation IoU: 0.4680\nSaved Best Model\nEpoch 42/150\n",
          "output_type": "stream"
        },
        {
          "name": "stderr",
          "text": "100%|██████████| 182/182 [00:50<00:00,  3.57it/s]",
          "output_type": "stream"
        },
        {
          "name": "stdout",
          "text": "Epoch 42/150, Loss: 0.4615, Train IoU: 0.4806\n",
          "output_type": "stream"
        },
        {
          "name": "stderr",
          "text": "\n",
          "output_type": "stream"
        },
        {
          "name": "stdout",
          "text": "Validation Loss: 0.4724, Validation IoU: 0.4697\nSaved Best Model\nEpoch 43/150\n",
          "output_type": "stream"
        },
        {
          "name": "stderr",
          "text": "100%|██████████| 182/182 [00:50<00:00,  3.58it/s]",
          "output_type": "stream"
        },
        {
          "name": "stdout",
          "text": "Epoch 43/150, Loss: 0.4566, Train IoU: 0.4822\n",
          "output_type": "stream"
        },
        {
          "name": "stderr",
          "text": "\n",
          "output_type": "stream"
        },
        {
          "name": "stdout",
          "text": "Validation Loss: 0.4693, Validation IoU: 0.4690\nSaved Best Model\nEpoch 44/150\n",
          "output_type": "stream"
        },
        {
          "name": "stderr",
          "text": "100%|██████████| 182/182 [00:50<00:00,  3.58it/s]",
          "output_type": "stream"
        },
        {
          "name": "stdout",
          "text": "Epoch 44/150, Loss: 0.4515, Train IoU: 0.4844\n",
          "output_type": "stream"
        },
        {
          "name": "stderr",
          "text": "\n",
          "output_type": "stream"
        },
        {
          "name": "stdout",
          "text": "Validation Loss: 0.4656, Validation IoU: 0.4709\nSaved Best Model\nEpoch 45/150\n",
          "output_type": "stream"
        },
        {
          "name": "stderr",
          "text": "100%|██████████| 182/182 [00:50<00:00,  3.57it/s]",
          "output_type": "stream"
        },
        {
          "name": "stdout",
          "text": "Epoch 45/150, Loss: 0.4468, Train IoU: 0.4866\n",
          "output_type": "stream"
        },
        {
          "name": "stderr",
          "text": "\n",
          "output_type": "stream"
        },
        {
          "name": "stdout",
          "text": "Validation Loss: 0.4651, Validation IoU: 0.4690\nSaved Best Model\nEpoch 46/150\n",
          "output_type": "stream"
        },
        {
          "name": "stderr",
          "text": "100%|██████████| 182/182 [00:50<00:00,  3.58it/s]",
          "output_type": "stream"
        },
        {
          "name": "stdout",
          "text": "Epoch 46/150, Loss: 0.4429, Train IoU: 0.4881\n",
          "output_type": "stream"
        },
        {
          "name": "stderr",
          "text": "\n",
          "output_type": "stream"
        },
        {
          "name": "stdout",
          "text": "Validation Loss: 0.4592, Validation IoU: 0.4723\nSaved Best Model\nEpoch 47/150\n",
          "output_type": "stream"
        },
        {
          "name": "stderr",
          "text": "100%|██████████| 182/182 [00:50<00:00,  3.57it/s]",
          "output_type": "stream"
        },
        {
          "name": "stdout",
          "text": "Epoch 47/150, Loss: 0.4391, Train IoU: 0.4897\n",
          "output_type": "stream"
        },
        {
          "name": "stderr",
          "text": "\n",
          "output_type": "stream"
        },
        {
          "name": "stdout",
          "text": "Validation Loss: 0.4583, Validation IoU: 0.4710\nSaved Best Model\nEpoch 48/150\n",
          "output_type": "stream"
        },
        {
          "name": "stderr",
          "text": "100%|██████████| 182/182 [00:51<00:00,  3.57it/s]",
          "output_type": "stream"
        },
        {
          "name": "stdout",
          "text": "Epoch 48/150, Loss: 0.4359, Train IoU: 0.4910\n",
          "output_type": "stream"
        },
        {
          "name": "stderr",
          "text": "\n",
          "output_type": "stream"
        },
        {
          "name": "stdout",
          "text": "Validation Loss: 0.4539, Validation IoU: 0.4735\nSaved Best Model\nEpoch 49/150\n",
          "output_type": "stream"
        },
        {
          "name": "stderr",
          "text": "100%|██████████| 182/182 [00:50<00:00,  3.57it/s]",
          "output_type": "stream"
        },
        {
          "name": "stdout",
          "text": "Epoch 49/150, Loss: 0.4319, Train IoU: 0.4934\n",
          "output_type": "stream"
        },
        {
          "name": "stderr",
          "text": "\n",
          "output_type": "stream"
        },
        {
          "name": "stdout",
          "text": "Validation Loss: 0.4535, Validation IoU: 0.4728\nSaved Best Model\nEpoch 50/150\n",
          "output_type": "stream"
        },
        {
          "name": "stderr",
          "text": "100%|██████████| 182/182 [00:51<00:00,  3.56it/s]",
          "output_type": "stream"
        },
        {
          "name": "stdout",
          "text": "Epoch 50/150, Loss: 0.4289, Train IoU: 0.4938\n",
          "output_type": "stream"
        },
        {
          "name": "stderr",
          "text": "\n",
          "output_type": "stream"
        },
        {
          "name": "stdout",
          "text": "Validation Loss: 0.4503, Validation IoU: 0.4741\nSaved Best Model\nEpoch 51/150\n",
          "output_type": "stream"
        },
        {
          "name": "stderr",
          "text": "100%|██████████| 182/182 [00:50<00:00,  3.58it/s]",
          "output_type": "stream"
        },
        {
          "name": "stdout",
          "text": "Epoch 51/150, Loss: 0.4260, Train IoU: 0.4959\n",
          "output_type": "stream"
        },
        {
          "name": "stderr",
          "text": "\n",
          "output_type": "stream"
        },
        {
          "name": "stdout",
          "text": "Validation Loss: 0.4487, Validation IoU: 0.4752\nSaved Best Model\nEpoch 52/150\n",
          "output_type": "stream"
        },
        {
          "name": "stderr",
          "text": "100%|██████████| 182/182 [00:50<00:00,  3.57it/s]",
          "output_type": "stream"
        },
        {
          "name": "stdout",
          "text": "Epoch 52/150, Loss: 0.4229, Train IoU: 0.4974\n",
          "output_type": "stream"
        },
        {
          "name": "stderr",
          "text": "\n",
          "output_type": "stream"
        },
        {
          "name": "stdout",
          "text": "Validation Loss: 0.4489, Validation IoU: 0.4729\nEpoch 53/150\n",
          "output_type": "stream"
        },
        {
          "name": "stderr",
          "text": "100%|██████████| 182/182 [00:50<00:00,  3.58it/s]",
          "output_type": "stream"
        },
        {
          "name": "stdout",
          "text": "Epoch 53/150, Loss: 0.4196, Train IoU: 0.4992\n",
          "output_type": "stream"
        },
        {
          "name": "stderr",
          "text": "\n",
          "output_type": "stream"
        },
        {
          "name": "stdout",
          "text": "Validation Loss: 0.4461, Validation IoU: 0.4749\nSaved Best Model\nEpoch 54/150\n",
          "output_type": "stream"
        },
        {
          "name": "stderr",
          "text": "100%|██████████| 182/182 [00:50<00:00,  3.58it/s]",
          "output_type": "stream"
        },
        {
          "name": "stdout",
          "text": "Epoch 54/150, Loss: 0.4173, Train IoU: 0.5001\n",
          "output_type": "stream"
        },
        {
          "name": "stderr",
          "text": "\n",
          "output_type": "stream"
        },
        {
          "name": "stdout",
          "text": "Validation Loss: 0.4465, Validation IoU: 0.4739\nEpoch 55/150\n",
          "output_type": "stream"
        },
        {
          "name": "stderr",
          "text": "100%|██████████| 182/182 [00:50<00:00,  3.59it/s]",
          "output_type": "stream"
        },
        {
          "name": "stdout",
          "text": "Epoch 55/150, Loss: 0.4160, Train IoU: 0.5006\n",
          "output_type": "stream"
        },
        {
          "name": "stderr",
          "text": "\n",
          "output_type": "stream"
        },
        {
          "name": "stdout",
          "text": "Validation Loss: 0.4436, Validation IoU: 0.4747\nSaved Best Model\nEpoch 56/150\n",
          "output_type": "stream"
        },
        {
          "name": "stderr",
          "text": "100%|██████████| 182/182 [00:50<00:00,  3.60it/s]",
          "output_type": "stream"
        },
        {
          "name": "stdout",
          "text": "Epoch 56/150, Loss: 0.4137, Train IoU: 0.5016\n",
          "output_type": "stream"
        },
        {
          "name": "stderr",
          "text": "\n",
          "output_type": "stream"
        },
        {
          "name": "stdout",
          "text": "Validation Loss: 0.4443, Validation IoU: 0.4740\nEpoch 57/150\n",
          "output_type": "stream"
        },
        {
          "name": "stderr",
          "text": "100%|██████████| 182/182 [00:50<00:00,  3.60it/s]",
          "output_type": "stream"
        },
        {
          "name": "stdout",
          "text": "Epoch 57/150, Loss: 0.4116, Train IoU: 0.5027\n",
          "output_type": "stream"
        },
        {
          "name": "stderr",
          "text": "\n",
          "output_type": "stream"
        },
        {
          "name": "stdout",
          "text": "Validation Loss: 0.4421, Validation IoU: 0.4743\nSaved Best Model\nEpoch 58/150\n",
          "output_type": "stream"
        },
        {
          "name": "stderr",
          "text": "100%|██████████| 182/182 [00:50<00:00,  3.60it/s]",
          "output_type": "stream"
        },
        {
          "name": "stdout",
          "text": "Epoch 58/150, Loss: 0.4083, Train IoU: 0.5050\n",
          "output_type": "stream"
        },
        {
          "name": "stderr",
          "text": "\n",
          "output_type": "stream"
        },
        {
          "name": "stdout",
          "text": "Validation Loss: 0.4400, Validation IoU: 0.4765\nSaved Best Model\nEpoch 59/150\n",
          "output_type": "stream"
        },
        {
          "name": "stderr",
          "text": "100%|██████████| 182/182 [00:50<00:00,  3.60it/s]",
          "output_type": "stream"
        },
        {
          "name": "stdout",
          "text": "Epoch 59/150, Loss: 0.4063, Train IoU: 0.5062\n",
          "output_type": "stream"
        },
        {
          "name": "stderr",
          "text": "\n",
          "output_type": "stream"
        },
        {
          "name": "stdout",
          "text": "Validation Loss: 0.4405, Validation IoU: 0.4749\nEpoch 60/150\n",
          "output_type": "stream"
        },
        {
          "name": "stderr",
          "text": "100%|██████████| 182/182 [00:50<00:00,  3.60it/s]",
          "output_type": "stream"
        },
        {
          "name": "stdout",
          "text": "Epoch 60/150, Loss: 0.4042, Train IoU: 0.5076\n",
          "output_type": "stream"
        },
        {
          "name": "stderr",
          "text": "\n",
          "output_type": "stream"
        },
        {
          "name": "stdout",
          "text": "Validation Loss: 0.4399, Validation IoU: 0.4747\nSaved Best Model\nEpoch 61/150\n",
          "output_type": "stream"
        },
        {
          "name": "stderr",
          "text": "100%|██████████| 182/182 [00:50<00:00,  3.60it/s]",
          "output_type": "stream"
        },
        {
          "name": "stdout",
          "text": "Epoch 61/150, Loss: 0.4023, Train IoU: 0.5087\n",
          "output_type": "stream"
        },
        {
          "name": "stderr",
          "text": "\n",
          "output_type": "stream"
        },
        {
          "name": "stdout",
          "text": "Validation Loss: 0.4368, Validation IoU: 0.4778\nSaved Best Model\nEpoch 62/150\n",
          "output_type": "stream"
        },
        {
          "name": "stderr",
          "text": "100%|██████████| 182/182 [00:50<00:00,  3.59it/s]",
          "output_type": "stream"
        },
        {
          "name": "stdout",
          "text": "Epoch 62/150, Loss: 0.4006, Train IoU: 0.5095\n",
          "output_type": "stream"
        },
        {
          "name": "stderr",
          "text": "\n",
          "output_type": "stream"
        },
        {
          "name": "stdout",
          "text": "Validation Loss: 0.4379, Validation IoU: 0.4752\nEpoch 63/150\n",
          "output_type": "stream"
        },
        {
          "name": "stderr",
          "text": "100%|██████████| 182/182 [00:50<00:00,  3.59it/s]",
          "output_type": "stream"
        },
        {
          "name": "stdout",
          "text": "Epoch 63/150, Loss: 0.3983, Train IoU: 0.5109\n",
          "output_type": "stream"
        },
        {
          "name": "stderr",
          "text": "\n",
          "output_type": "stream"
        },
        {
          "name": "stdout",
          "text": "Validation Loss: 0.4370, Validation IoU: 0.4768\nEpoch 64/150\n",
          "output_type": "stream"
        },
        {
          "name": "stderr",
          "text": "100%|██████████| 182/182 [00:50<00:00,  3.59it/s]",
          "output_type": "stream"
        },
        {
          "name": "stdout",
          "text": "Epoch 64/150, Loss: 0.3964, Train IoU: 0.5120\n",
          "output_type": "stream"
        },
        {
          "name": "stderr",
          "text": "\n",
          "output_type": "stream"
        },
        {
          "name": "stdout",
          "text": "Validation Loss: 0.4368, Validation IoU: 0.4759\nSaved Best Model\nEpoch 65/150\n",
          "output_type": "stream"
        },
        {
          "name": "stderr",
          "text": "100%|██████████| 182/182 [00:50<00:00,  3.59it/s]",
          "output_type": "stream"
        },
        {
          "name": "stdout",
          "text": "Epoch 65/150, Loss: 0.3955, Train IoU: 0.5127\n",
          "output_type": "stream"
        },
        {
          "name": "stderr",
          "text": "\n",
          "output_type": "stream"
        },
        {
          "name": "stdout",
          "text": "Validation Loss: 0.4357, Validation IoU: 0.4757\nSaved Best Model\nEpoch 66/150\n",
          "output_type": "stream"
        },
        {
          "name": "stderr",
          "text": "100%|██████████| 182/182 [00:50<00:00,  3.59it/s]",
          "output_type": "stream"
        },
        {
          "name": "stdout",
          "text": "Epoch 66/150, Loss: 0.3939, Train IoU: 0.5135\n",
          "output_type": "stream"
        },
        {
          "name": "stderr",
          "text": "\n",
          "output_type": "stream"
        },
        {
          "name": "stdout",
          "text": "Validation Loss: 0.4344, Validation IoU: 0.4777\nSaved Best Model\nEpoch 67/150\n",
          "output_type": "stream"
        },
        {
          "name": "stderr",
          "text": "100%|██████████| 182/182 [00:50<00:00,  3.59it/s]",
          "output_type": "stream"
        },
        {
          "name": "stdout",
          "text": "Epoch 67/150, Loss: 0.3911, Train IoU: 0.5154\n",
          "output_type": "stream"
        },
        {
          "name": "stderr",
          "text": "\n",
          "output_type": "stream"
        },
        {
          "name": "stdout",
          "text": "Validation Loss: 0.4334, Validation IoU: 0.4784\nSaved Best Model\nEpoch 68/150\n",
          "output_type": "stream"
        },
        {
          "name": "stderr",
          "text": "100%|██████████| 182/182 [00:50<00:00,  3.60it/s]",
          "output_type": "stream"
        },
        {
          "name": "stdout",
          "text": "Epoch 68/150, Loss: 0.3908, Train IoU: 0.5153\n",
          "output_type": "stream"
        },
        {
          "name": "stderr",
          "text": "\n",
          "output_type": "stream"
        },
        {
          "name": "stdout",
          "text": "Validation Loss: 0.4342, Validation IoU: 0.4777\nEpoch 69/150\n",
          "output_type": "stream"
        },
        {
          "name": "stderr",
          "text": "100%|██████████| 182/182 [00:50<00:00,  3.60it/s]",
          "output_type": "stream"
        },
        {
          "name": "stdout",
          "text": "Epoch 69/150, Loss: 0.3896, Train IoU: 0.5163\n",
          "output_type": "stream"
        },
        {
          "name": "stderr",
          "text": "\n",
          "output_type": "stream"
        },
        {
          "name": "stdout",
          "text": "Validation Loss: 0.4324, Validation IoU: 0.4776\nSaved Best Model\nEpoch 70/150\n",
          "output_type": "stream"
        },
        {
          "name": "stderr",
          "text": "100%|██████████| 182/182 [00:50<00:00,  3.60it/s]",
          "output_type": "stream"
        },
        {
          "name": "stdout",
          "text": "Epoch 70/150, Loss: 0.3881, Train IoU: 0.5176\n",
          "output_type": "stream"
        },
        {
          "name": "stderr",
          "text": "\n",
          "output_type": "stream"
        },
        {
          "name": "stdout",
          "text": "Validation Loss: 0.4334, Validation IoU: 0.4777\nEpoch 71/150\n",
          "output_type": "stream"
        },
        {
          "name": "stderr",
          "text": "100%|██████████| 182/182 [00:50<00:00,  3.60it/s]",
          "output_type": "stream"
        },
        {
          "name": "stdout",
          "text": "Epoch 71/150, Loss: 0.3870, Train IoU: 0.5178\n",
          "output_type": "stream"
        },
        {
          "name": "stderr",
          "text": "\n",
          "output_type": "stream"
        },
        {
          "name": "stdout",
          "text": "Validation Loss: 0.4328, Validation IoU: 0.4772\nEpoch 72/150\n",
          "output_type": "stream"
        },
        {
          "name": "stderr",
          "text": "100%|██████████| 182/182 [00:50<00:00,  3.60it/s]",
          "output_type": "stream"
        },
        {
          "name": "stdout",
          "text": "Epoch 72/150, Loss: 0.3854, Train IoU: 0.5188\n",
          "output_type": "stream"
        },
        {
          "name": "stderr",
          "text": "\n",
          "output_type": "stream"
        },
        {
          "name": "stdout",
          "text": "Validation Loss: 0.4327, Validation IoU: 0.4779\nEpoch 73/150\n",
          "output_type": "stream"
        },
        {
          "name": "stderr",
          "text": "100%|██████████| 182/182 [00:50<00:00,  3.60it/s]",
          "output_type": "stream"
        },
        {
          "name": "stdout",
          "text": "Epoch 73/150, Loss: 0.3848, Train IoU: 0.5193\n",
          "output_type": "stream"
        },
        {
          "name": "stderr",
          "text": "\n",
          "output_type": "stream"
        },
        {
          "name": "stdout",
          "text": "Validation Loss: 0.4339, Validation IoU: 0.4768\nEpoch 74/150\n",
          "output_type": "stream"
        },
        {
          "name": "stderr",
          "text": "100%|██████████| 182/182 [00:50<00:00,  3.59it/s]",
          "output_type": "stream"
        },
        {
          "name": "stdout",
          "text": "Epoch 74/150, Loss: 0.3834, Train IoU: 0.5204\n",
          "output_type": "stream"
        },
        {
          "name": "stderr",
          "text": "\n",
          "output_type": "stream"
        },
        {
          "name": "stdout",
          "text": "Validation Loss: 0.4315, Validation IoU: 0.4780\nSaved Best Model\nEpoch 75/150\n",
          "output_type": "stream"
        },
        {
          "name": "stderr",
          "text": "100%|██████████| 182/182 [00:50<00:00,  3.60it/s]",
          "output_type": "stream"
        },
        {
          "name": "stdout",
          "text": "Epoch 75/150, Loss: 0.3829, Train IoU: 0.5205\n",
          "output_type": "stream"
        },
        {
          "name": "stderr",
          "text": "\n",
          "output_type": "stream"
        },
        {
          "name": "stdout",
          "text": "Validation Loss: 0.4320, Validation IoU: 0.4774\nEpoch 76/150\n",
          "output_type": "stream"
        },
        {
          "name": "stderr",
          "text": "100%|██████████| 182/182 [00:50<00:00,  3.61it/s]",
          "output_type": "stream"
        },
        {
          "name": "stdout",
          "text": "Epoch 76/150, Loss: 0.3807, Train IoU: 0.5219\n",
          "output_type": "stream"
        },
        {
          "name": "stderr",
          "text": "\n",
          "output_type": "stream"
        },
        {
          "name": "stdout",
          "text": "Validation Loss: 0.4300, Validation IoU: 0.4789\nSaved Best Model\nEpoch 77/150\n",
          "output_type": "stream"
        },
        {
          "name": "stderr",
          "text": "100%|██████████| 182/182 [00:50<00:00,  3.61it/s]",
          "output_type": "stream"
        },
        {
          "name": "stdout",
          "text": "Epoch 77/150, Loss: 0.3800, Train IoU: 0.5229\n",
          "output_type": "stream"
        },
        {
          "name": "stderr",
          "text": "\n",
          "output_type": "stream"
        },
        {
          "name": "stdout",
          "text": "Validation Loss: 0.4297, Validation IoU: 0.4791\nSaved Best Model\nEpoch 78/150\n",
          "output_type": "stream"
        },
        {
          "name": "stderr",
          "text": "100%|██████████| 182/182 [00:50<00:00,  3.60it/s]",
          "output_type": "stream"
        },
        {
          "name": "stdout",
          "text": "Epoch 78/150, Loss: 0.3793, Train IoU: 0.5232\n",
          "output_type": "stream"
        },
        {
          "name": "stderr",
          "text": "\n",
          "output_type": "stream"
        },
        {
          "name": "stdout",
          "text": "Validation Loss: 0.4307, Validation IoU: 0.4784\nEpoch 79/150\n",
          "output_type": "stream"
        },
        {
          "name": "stderr",
          "text": "100%|██████████| 182/182 [00:50<00:00,  3.60it/s]",
          "output_type": "stream"
        },
        {
          "name": "stdout",
          "text": "Epoch 79/150, Loss: 0.3783, Train IoU: 0.5241\n",
          "output_type": "stream"
        },
        {
          "name": "stderr",
          "text": "\n",
          "output_type": "stream"
        },
        {
          "name": "stdout",
          "text": "Validation Loss: 0.4297, Validation IoU: 0.4795\nSaved Best Model\nEpoch 80/150\n",
          "output_type": "stream"
        },
        {
          "name": "stderr",
          "text": "100%|██████████| 182/182 [00:50<00:00,  3.60it/s]",
          "output_type": "stream"
        },
        {
          "name": "stdout",
          "text": "Epoch 80/150, Loss: 0.3769, Train IoU: 0.5253\n",
          "output_type": "stream"
        },
        {
          "name": "stderr",
          "text": "\n",
          "output_type": "stream"
        },
        {
          "name": "stdout",
          "text": "Validation Loss: 0.4307, Validation IoU: 0.4784\nEpoch 81/150\n",
          "output_type": "stream"
        },
        {
          "name": "stderr",
          "text": "100%|██████████| 182/182 [00:50<00:00,  3.60it/s]",
          "output_type": "stream"
        },
        {
          "name": "stdout",
          "text": "Epoch 81/150, Loss: 0.3765, Train IoU: 0.5256\n",
          "output_type": "stream"
        },
        {
          "name": "stderr",
          "text": "\n",
          "output_type": "stream"
        },
        {
          "name": "stdout",
          "text": "Validation Loss: 0.4304, Validation IoU: 0.4787\nEpoch 82/150\n",
          "output_type": "stream"
        },
        {
          "name": "stderr",
          "text": "100%|██████████| 182/182 [00:50<00:00,  3.57it/s]",
          "output_type": "stream"
        },
        {
          "name": "stdout",
          "text": "Epoch 82/150, Loss: 0.3756, Train IoU: 0.5261\n",
          "output_type": "stream"
        },
        {
          "name": "stderr",
          "text": "\n",
          "output_type": "stream"
        },
        {
          "name": "stdout",
          "text": "Validation Loss: 0.4308, Validation IoU: 0.4777\nEpoch 83/150\n",
          "output_type": "stream"
        },
        {
          "name": "stderr",
          "text": "100%|██████████| 182/182 [00:50<00:00,  3.57it/s]",
          "output_type": "stream"
        },
        {
          "name": "stdout",
          "text": "Epoch 83/150, Loss: 0.3748, Train IoU: 0.5267\n",
          "output_type": "stream"
        },
        {
          "name": "stderr",
          "text": "\n",
          "output_type": "stream"
        },
        {
          "name": "stdout",
          "text": "Validation Loss: 0.4290, Validation IoU: 0.4807\nSaved Best Model\nEpoch 84/150\n",
          "output_type": "stream"
        },
        {
          "name": "stderr",
          "text": "100%|██████████| 182/182 [00:51<00:00,  3.56it/s]",
          "output_type": "stream"
        },
        {
          "name": "stdout",
          "text": "Epoch 84/150, Loss: 0.3736, Train IoU: 0.5278\n",
          "output_type": "stream"
        },
        {
          "name": "stderr",
          "text": "\n",
          "output_type": "stream"
        },
        {
          "name": "stdout",
          "text": "Validation Loss: 0.4298, Validation IoU: 0.4788\nEpoch 85/150\n",
          "output_type": "stream"
        },
        {
          "name": "stderr",
          "text": "100%|██████████| 182/182 [00:50<00:00,  3.57it/s]",
          "output_type": "stream"
        },
        {
          "name": "stdout",
          "text": "Epoch 85/150, Loss: 0.3722, Train IoU: 0.5287\n",
          "output_type": "stream"
        },
        {
          "name": "stderr",
          "text": "\n",
          "output_type": "stream"
        },
        {
          "name": "stdout",
          "text": "Validation Loss: 0.4305, Validation IoU: 0.4786\nEpoch 86/150\n",
          "output_type": "stream"
        },
        {
          "name": "stderr",
          "text": "100%|██████████| 182/182 [00:50<00:00,  3.58it/s]",
          "output_type": "stream"
        },
        {
          "name": "stdout",
          "text": "Epoch 86/150, Loss: 0.3717, Train IoU: 0.5292\n",
          "output_type": "stream"
        },
        {
          "name": "stderr",
          "text": "\n",
          "output_type": "stream"
        },
        {
          "name": "stdout",
          "text": "Validation Loss: 0.4298, Validation IoU: 0.4786\nEpoch 87/150\n",
          "output_type": "stream"
        },
        {
          "name": "stderr",
          "text": "100%|██████████| 182/182 [00:50<00:00,  3.57it/s]",
          "output_type": "stream"
        },
        {
          "name": "stdout",
          "text": "Epoch 87/150, Loss: 0.3711, Train IoU: 0.5297\n",
          "output_type": "stream"
        },
        {
          "name": "stderr",
          "text": "\n",
          "output_type": "stream"
        },
        {
          "name": "stdout",
          "text": "Validation Loss: 0.4304, Validation IoU: 0.4786\nEpoch 88/150\n",
          "output_type": "stream"
        },
        {
          "name": "stderr",
          "text": "100%|██████████| 182/182 [00:50<00:00,  3.57it/s]",
          "output_type": "stream"
        },
        {
          "name": "stdout",
          "text": "Epoch 88/150, Loss: 0.3701, Train IoU: 0.5304\n",
          "output_type": "stream"
        },
        {
          "name": "stderr",
          "text": "\n",
          "output_type": "stream"
        },
        {
          "name": "stdout",
          "text": "Validation Loss: 0.4290, Validation IoU: 0.4797\nEpoch 89/150\n",
          "output_type": "stream"
        },
        {
          "name": "stderr",
          "text": "100%|██████████| 182/182 [00:51<00:00,  3.56it/s]",
          "output_type": "stream"
        },
        {
          "name": "stdout",
          "text": "Epoch 89/150, Loss: 0.3699, Train IoU: 0.5308\n",
          "output_type": "stream"
        },
        {
          "name": "stderr",
          "text": "\n",
          "output_type": "stream"
        },
        {
          "name": "stdout",
          "text": "Validation Loss: 0.4300, Validation IoU: 0.4792\nEpoch 90/150\n",
          "output_type": "stream"
        },
        {
          "name": "stderr",
          "text": "100%|██████████| 182/182 [00:51<00:00,  3.56it/s]",
          "output_type": "stream"
        },
        {
          "name": "stdout",
          "text": "Epoch 90/150, Loss: 0.3686, Train IoU: 0.5317\n",
          "output_type": "stream"
        },
        {
          "name": "stderr",
          "text": "\n",
          "output_type": "stream"
        },
        {
          "name": "stdout",
          "text": "Validation Loss: 0.4301, Validation IoU: 0.4785\nEpoch 91/150\n",
          "output_type": "stream"
        },
        {
          "name": "stderr",
          "text": "100%|██████████| 182/182 [00:50<00:00,  3.57it/s]",
          "output_type": "stream"
        },
        {
          "name": "stdout",
          "text": "Epoch 91/150, Loss: 0.3677, Train IoU: 0.5327\n",
          "output_type": "stream"
        },
        {
          "name": "stderr",
          "text": "\n",
          "output_type": "stream"
        },
        {
          "name": "stdout",
          "text": "Validation Loss: 0.4292, Validation IoU: 0.4799\nEpoch 92/150\n",
          "output_type": "stream"
        },
        {
          "name": "stderr",
          "text": "100%|██████████| 182/182 [00:51<00:00,  3.57it/s]",
          "output_type": "stream"
        },
        {
          "name": "stdout",
          "text": "Epoch 92/150, Loss: 0.3669, Train IoU: 0.5331\n",
          "output_type": "stream"
        },
        {
          "name": "stderr",
          "text": "\n",
          "output_type": "stream"
        },
        {
          "name": "stdout",
          "text": "Validation Loss: 0.4306, Validation IoU: 0.4783\nEpoch 93/150\n",
          "output_type": "stream"
        },
        {
          "name": "stderr",
          "text": "100%|██████████| 182/182 [00:50<00:00,  3.58it/s]",
          "output_type": "stream"
        },
        {
          "name": "stdout",
          "text": "Epoch 93/150, Loss: 0.3659, Train IoU: 0.5337\n",
          "output_type": "stream"
        },
        {
          "name": "stderr",
          "text": "\n",
          "output_type": "stream"
        },
        {
          "name": "stdout",
          "text": "Validation Loss: 0.4308, Validation IoU: 0.4783\nEpoch 94/150\n",
          "output_type": "stream"
        },
        {
          "name": "stderr",
          "text": "100%|██████████| 182/182 [00:51<00:00,  3.56it/s]",
          "output_type": "stream"
        },
        {
          "name": "stdout",
          "text": "Epoch 94/150, Loss: 0.3656, Train IoU: 0.5345\n",
          "output_type": "stream"
        },
        {
          "name": "stderr",
          "text": "\n",
          "output_type": "stream"
        },
        {
          "name": "stdout",
          "text": "Validation Loss: 0.4299, Validation IoU: 0.4790\nEpoch 95/150\n",
          "output_type": "stream"
        },
        {
          "name": "stderr",
          "text": "100%|██████████| 182/182 [00:50<00:00,  3.57it/s]",
          "output_type": "stream"
        },
        {
          "name": "stdout",
          "text": "Epoch 95/150, Loss: 0.3654, Train IoU: 0.5341\n",
          "output_type": "stream"
        },
        {
          "name": "stderr",
          "text": "\n",
          "output_type": "stream"
        },
        {
          "name": "stdout",
          "text": "Validation Loss: 0.4295, Validation IoU: 0.4790\nEpoch 96/150\n",
          "output_type": "stream"
        },
        {
          "name": "stderr",
          "text": "100%|██████████| 182/182 [00:50<00:00,  3.58it/s]",
          "output_type": "stream"
        },
        {
          "name": "stdout",
          "text": "Epoch 96/150, Loss: 0.3636, Train IoU: 0.5357\n",
          "output_type": "stream"
        },
        {
          "name": "stderr",
          "text": "\n",
          "output_type": "stream"
        },
        {
          "name": "stdout",
          "text": "Validation Loss: 0.4304, Validation IoU: 0.4784\nEpoch 97/150\n",
          "output_type": "stream"
        },
        {
          "name": "stderr",
          "text": "100%|██████████| 182/182 [00:51<00:00,  3.56it/s]",
          "output_type": "stream"
        },
        {
          "name": "stdout",
          "text": "Epoch 97/150, Loss: 0.3642, Train IoU: 0.5352\n",
          "output_type": "stream"
        },
        {
          "name": "stderr",
          "text": "\n",
          "output_type": "stream"
        },
        {
          "name": "stdout",
          "text": "Validation Loss: 0.4301, Validation IoU: 0.4786\nEpoch 98/150\n",
          "output_type": "stream"
        },
        {
          "name": "stderr",
          "text": "100%|██████████| 182/182 [00:51<00:00,  3.57it/s]",
          "output_type": "stream"
        },
        {
          "name": "stdout",
          "text": "Epoch 98/150, Loss: 0.3629, Train IoU: 0.5363\n",
          "output_type": "stream"
        },
        {
          "name": "stderr",
          "text": "\n",
          "output_type": "stream"
        },
        {
          "name": "stdout",
          "text": "Validation Loss: 0.4294, Validation IoU: 0.4793\nEpoch 99/150\n",
          "output_type": "stream"
        },
        {
          "name": "stderr",
          "text": "100%|██████████| 182/182 [00:51<00:00,  3.55it/s]",
          "output_type": "stream"
        },
        {
          "name": "stdout",
          "text": "Epoch 99/150, Loss: 0.3618, Train IoU: 0.5373\n",
          "output_type": "stream"
        },
        {
          "name": "stderr",
          "text": "\n",
          "output_type": "stream"
        },
        {
          "name": "stdout",
          "text": "Validation Loss: 0.4307, Validation IoU: 0.4780\nEpoch 100/150\n",
          "output_type": "stream"
        },
        {
          "name": "stderr",
          "text": "100%|██████████| 182/182 [00:51<00:00,  3.56it/s]",
          "output_type": "stream"
        },
        {
          "name": "stdout",
          "text": "Epoch 100/150, Loss: 0.3622, Train IoU: 0.5366\n",
          "output_type": "stream"
        },
        {
          "name": "stderr",
          "text": "\n",
          "output_type": "stream"
        },
        {
          "name": "stdout",
          "text": "Validation Loss: 0.4310, Validation IoU: 0.4784\nEpoch 101/150\n",
          "output_type": "stream"
        },
        {
          "name": "stderr",
          "text": "100%|██████████| 182/182 [00:50<00:00,  3.58it/s]",
          "output_type": "stream"
        },
        {
          "name": "stdout",
          "text": "Epoch 101/150, Loss: 0.3607, Train IoU: 0.5380\n",
          "output_type": "stream"
        },
        {
          "name": "stderr",
          "text": "\n",
          "output_type": "stream"
        },
        {
          "name": "stdout",
          "text": "Validation Loss: 0.4312, Validation IoU: 0.4774\nEpoch 102/150\n",
          "output_type": "stream"
        },
        {
          "name": "stderr",
          "text": "100%|██████████| 182/182 [00:51<00:00,  3.57it/s]",
          "output_type": "stream"
        },
        {
          "name": "stdout",
          "text": "Epoch 102/150, Loss: 0.3599, Train IoU: 0.5386\n",
          "output_type": "stream"
        },
        {
          "name": "stderr",
          "text": "\n",
          "output_type": "stream"
        },
        {
          "name": "stdout",
          "text": "Validation Loss: 0.4301, Validation IoU: 0.4789\nEpoch 103/150\n",
          "output_type": "stream"
        },
        {
          "name": "stderr",
          "text": "100%|██████████| 182/182 [00:50<00:00,  3.57it/s]",
          "output_type": "stream"
        },
        {
          "name": "stdout",
          "text": "Epoch 103/150, Loss: 0.3592, Train IoU: 0.5395\n",
          "output_type": "stream"
        },
        {
          "name": "stderr",
          "text": "\n",
          "output_type": "stream"
        },
        {
          "name": "stdout",
          "text": "Validation Loss: 0.4297, Validation IoU: 0.4792\nEpoch 104/150\n",
          "output_type": "stream"
        },
        {
          "name": "stderr",
          "text": "100%|██████████| 182/182 [00:51<00:00,  3.56it/s]",
          "output_type": "stream"
        },
        {
          "name": "stdout",
          "text": "Epoch 104/150, Loss: 0.3592, Train IoU: 0.5395\n",
          "output_type": "stream"
        },
        {
          "name": "stderr",
          "text": "\n",
          "output_type": "stream"
        },
        {
          "name": "stdout",
          "text": "Validation Loss: 0.4283, Validation IoU: 0.4799\nSaved Best Model\nEpoch 105/150\n",
          "output_type": "stream"
        },
        {
          "name": "stderr",
          "text": "100%|██████████| 182/182 [00:51<00:00,  3.54it/s]",
          "output_type": "stream"
        },
        {
          "name": "stdout",
          "text": "Epoch 105/150, Loss: 0.3586, Train IoU: 0.5398\n",
          "output_type": "stream"
        },
        {
          "name": "stderr",
          "text": "\n",
          "output_type": "stream"
        },
        {
          "name": "stdout",
          "text": "Validation Loss: 0.4294, Validation IoU: 0.4800\nEpoch 106/150\n",
          "output_type": "stream"
        },
        {
          "name": "stderr",
          "text": "100%|██████████| 182/182 [00:51<00:00,  3.55it/s]",
          "output_type": "stream"
        },
        {
          "name": "stdout",
          "text": "Epoch 106/150, Loss: 0.3575, Train IoU: 0.5407\n",
          "output_type": "stream"
        },
        {
          "name": "stderr",
          "text": "\n",
          "output_type": "stream"
        },
        {
          "name": "stdout",
          "text": "Validation Loss: 0.4298, Validation IoU: 0.4798\nEpoch 107/150\n",
          "output_type": "stream"
        },
        {
          "name": "stderr",
          "text": "100%|██████████| 182/182 [00:51<00:00,  3.55it/s]",
          "output_type": "stream"
        },
        {
          "name": "stdout",
          "text": "Epoch 107/150, Loss: 0.3569, Train IoU: 0.5411\n",
          "output_type": "stream"
        },
        {
          "name": "stderr",
          "text": "\n",
          "output_type": "stream"
        },
        {
          "name": "stdout",
          "text": "Validation Loss: 0.4302, Validation IoU: 0.4798\nEpoch 108/150\n",
          "output_type": "stream"
        },
        {
          "name": "stderr",
          "text": "100%|██████████| 182/182 [00:51<00:00,  3.56it/s]",
          "output_type": "stream"
        },
        {
          "name": "stdout",
          "text": "Epoch 108/150, Loss: 0.3564, Train IoU: 0.5417\n",
          "output_type": "stream"
        },
        {
          "name": "stderr",
          "text": "\n",
          "output_type": "stream"
        },
        {
          "name": "stdout",
          "text": "Validation Loss: 0.4305, Validation IoU: 0.4784\nEpoch 109/150\n",
          "output_type": "stream"
        },
        {
          "name": "stderr",
          "text": "100%|██████████| 182/182 [00:51<00:00,  3.56it/s]",
          "output_type": "stream"
        },
        {
          "name": "stdout",
          "text": "Epoch 109/150, Loss: 0.3554, Train IoU: 0.5426\n",
          "output_type": "stream"
        },
        {
          "name": "stderr",
          "text": "\n",
          "output_type": "stream"
        },
        {
          "name": "stdout",
          "text": "Validation Loss: 0.4299, Validation IoU: 0.4796\nEpoch 110/150\n",
          "output_type": "stream"
        },
        {
          "name": "stderr",
          "text": "100%|██████████| 182/182 [00:51<00:00,  3.55it/s]",
          "output_type": "stream"
        },
        {
          "name": "stdout",
          "text": "Epoch 110/150, Loss: 0.3562, Train IoU: 0.5418\n",
          "output_type": "stream"
        },
        {
          "name": "stderr",
          "text": "\n",
          "output_type": "stream"
        },
        {
          "name": "stdout",
          "text": "Validation Loss: 0.4282, Validation IoU: 0.4808\nSaved Best Model\nEpoch 111/150\n",
          "output_type": "stream"
        },
        {
          "name": "stderr",
          "text": "100%|██████████| 182/182 [00:51<00:00,  3.55it/s]",
          "output_type": "stream"
        },
        {
          "name": "stdout",
          "text": "Epoch 111/150, Loss: 0.3548, Train IoU: 0.5429\n",
          "output_type": "stream"
        },
        {
          "name": "stderr",
          "text": "\n",
          "output_type": "stream"
        },
        {
          "name": "stdout",
          "text": "Validation Loss: 0.4312, Validation IoU: 0.4787\nEpoch 112/150\n",
          "output_type": "stream"
        },
        {
          "name": "stderr",
          "text": "100%|██████████| 182/182 [00:51<00:00,  3.56it/s]",
          "output_type": "stream"
        },
        {
          "name": "stdout",
          "text": "Epoch 112/150, Loss: 0.3551, Train IoU: 0.5425\n",
          "output_type": "stream"
        },
        {
          "name": "stderr",
          "text": "\n",
          "output_type": "stream"
        },
        {
          "name": "stdout",
          "text": "Validation Loss: 0.4301, Validation IoU: 0.4802\nEpoch 113/150\n",
          "output_type": "stream"
        },
        {
          "name": "stderr",
          "text": "100%|██████████| 182/182 [00:50<00:00,  3.57it/s]",
          "output_type": "stream"
        },
        {
          "name": "stdout",
          "text": "Epoch 113/150, Loss: 0.3538, Train IoU: 0.5437\n",
          "output_type": "stream"
        },
        {
          "name": "stderr",
          "text": "\n",
          "output_type": "stream"
        },
        {
          "name": "stdout",
          "text": "Validation Loss: 0.4285, Validation IoU: 0.4808\nEpoch 114/150\n",
          "output_type": "stream"
        },
        {
          "name": "stderr",
          "text": "100%|██████████| 182/182 [00:51<00:00,  3.57it/s]",
          "output_type": "stream"
        },
        {
          "name": "stdout",
          "text": "Epoch 114/150, Loss: 0.3534, Train IoU: 0.5442\n",
          "output_type": "stream"
        },
        {
          "name": "stderr",
          "text": "\n",
          "output_type": "stream"
        },
        {
          "name": "stdout",
          "text": "Validation Loss: 0.4290, Validation IoU: 0.4807\nEpoch 115/150\n",
          "output_type": "stream"
        },
        {
          "name": "stderr",
          "text": "100%|██████████| 182/182 [00:51<00:00,  3.54it/s]",
          "output_type": "stream"
        },
        {
          "name": "stdout",
          "text": "Epoch 115/150, Loss: 0.3537, Train IoU: 0.5440\n",
          "output_type": "stream"
        },
        {
          "name": "stderr",
          "text": "\n",
          "output_type": "stream"
        },
        {
          "name": "stdout",
          "text": "Validation Loss: 0.4291, Validation IoU: 0.4811\nEpoch 116/150\n",
          "output_type": "stream"
        },
        {
          "name": "stderr",
          "text": "100%|██████████| 182/182 [00:50<00:00,  3.57it/s]",
          "output_type": "stream"
        },
        {
          "name": "stdout",
          "text": "Epoch 116/150, Loss: 0.3518, Train IoU: 0.5455\n",
          "output_type": "stream"
        },
        {
          "name": "stderr",
          "text": "\n",
          "output_type": "stream"
        },
        {
          "name": "stdout",
          "text": "Validation Loss: 0.4305, Validation IoU: 0.4798\nEpoch 117/150\n",
          "output_type": "stream"
        },
        {
          "name": "stderr",
          "text": "100%|██████████| 182/182 [00:51<00:00,  3.57it/s]",
          "output_type": "stream"
        },
        {
          "name": "stdout",
          "text": "Epoch 117/150, Loss: 0.3518, Train IoU: 0.5456\n",
          "output_type": "stream"
        },
        {
          "name": "stderr",
          "text": "\n",
          "output_type": "stream"
        },
        {
          "name": "stdout",
          "text": "Validation Loss: 0.4313, Validation IoU: 0.4791\nEpoch 118/150\n",
          "output_type": "stream"
        },
        {
          "name": "stderr",
          "text": "100%|██████████| 182/182 [00:51<00:00,  3.56it/s]",
          "output_type": "stream"
        },
        {
          "name": "stdout",
          "text": "Epoch 118/150, Loss: 0.3512, Train IoU: 0.5457\n",
          "output_type": "stream"
        },
        {
          "name": "stderr",
          "text": "\n",
          "output_type": "stream"
        },
        {
          "name": "stdout",
          "text": "Validation Loss: 0.4304, Validation IoU: 0.4796\nEpoch 119/150\n",
          "output_type": "stream"
        },
        {
          "name": "stderr",
          "text": "100%|██████████| 182/182 [00:51<00:00,  3.57it/s]",
          "output_type": "stream"
        },
        {
          "name": "stdout",
          "text": "Epoch 119/150, Loss: 0.3506, Train IoU: 0.5463\n",
          "output_type": "stream"
        },
        {
          "name": "stderr",
          "text": "\n",
          "output_type": "stream"
        },
        {
          "name": "stdout",
          "text": "Validation Loss: 0.4286, Validation IoU: 0.4812\nEpoch 120/150\n",
          "output_type": "stream"
        },
        {
          "name": "stderr",
          "text": "100%|██████████| 182/182 [00:51<00:00,  3.55it/s]",
          "output_type": "stream"
        },
        {
          "name": "stdout",
          "text": "Epoch 120/150, Loss: 0.3503, Train IoU: 0.5467\n",
          "output_type": "stream"
        },
        {
          "name": "stderr",
          "text": "\n",
          "output_type": "stream"
        },
        {
          "name": "stdout",
          "text": "Validation Loss: 0.4302, Validation IoU: 0.4802\nEpoch 121/150\n",
          "output_type": "stream"
        },
        {
          "name": "stderr",
          "text": "100%|██████████| 182/182 [00:51<00:00,  3.56it/s]",
          "output_type": "stream"
        },
        {
          "name": "stdout",
          "text": "Epoch 121/150, Loss: 0.3493, Train IoU: 0.5474\n",
          "output_type": "stream"
        },
        {
          "name": "stderr",
          "text": "\n",
          "output_type": "stream"
        },
        {
          "name": "stdout",
          "text": "Validation Loss: 0.4278, Validation IoU: 0.4817\nSaved Best Model\nEpoch 122/150\n",
          "output_type": "stream"
        },
        {
          "name": "stderr",
          "text": "100%|██████████| 182/182 [00:51<00:00,  3.57it/s]",
          "output_type": "stream"
        },
        {
          "name": "stdout",
          "text": "Epoch 122/150, Loss: 0.3494, Train IoU: 0.5473\n",
          "output_type": "stream"
        },
        {
          "name": "stderr",
          "text": "\n",
          "output_type": "stream"
        },
        {
          "name": "stdout",
          "text": "Validation Loss: 0.4290, Validation IoU: 0.4813\nEpoch 123/150\n",
          "output_type": "stream"
        },
        {
          "name": "stderr",
          "text": "100%|██████████| 182/182 [00:51<00:00,  3.57it/s]",
          "output_type": "stream"
        },
        {
          "name": "stdout",
          "text": "Epoch 123/150, Loss: 0.3488, Train IoU: 0.5479\n",
          "output_type": "stream"
        },
        {
          "name": "stderr",
          "text": "\n",
          "output_type": "stream"
        },
        {
          "name": "stdout",
          "text": "Validation Loss: 0.4302, Validation IoU: 0.4804\nEpoch 124/150\n",
          "output_type": "stream"
        },
        {
          "name": "stderr",
          "text": "100%|██████████| 182/182 [00:50<00:00,  3.57it/s]",
          "output_type": "stream"
        },
        {
          "name": "stdout",
          "text": "Epoch 124/150, Loss: 0.3482, Train IoU: 0.5484\n",
          "output_type": "stream"
        },
        {
          "name": "stderr",
          "text": "\n",
          "output_type": "stream"
        },
        {
          "name": "stdout",
          "text": "Validation Loss: 0.4296, Validation IoU: 0.4807\nEpoch 125/150\n",
          "output_type": "stream"
        },
        {
          "name": "stderr",
          "text": "100%|██████████| 182/182 [00:51<00:00,  3.56it/s]",
          "output_type": "stream"
        },
        {
          "name": "stdout",
          "text": "Epoch 125/150, Loss: 0.3477, Train IoU: 0.5487\n",
          "output_type": "stream"
        },
        {
          "name": "stderr",
          "text": "\n",
          "output_type": "stream"
        },
        {
          "name": "stdout",
          "text": "Validation Loss: 0.4295, Validation IoU: 0.4805\nEpoch 126/150\n",
          "output_type": "stream"
        },
        {
          "name": "stderr",
          "text": "100%|██████████| 182/182 [00:51<00:00,  3.56it/s]",
          "output_type": "stream"
        },
        {
          "name": "stdout",
          "text": "Epoch 126/150, Loss: 0.3469, Train IoU: 0.5492\n",
          "output_type": "stream"
        },
        {
          "name": "stderr",
          "text": "\n",
          "output_type": "stream"
        },
        {
          "name": "stdout",
          "text": "Validation Loss: 0.4306, Validation IoU: 0.4796\nEpoch 127/150\n",
          "output_type": "stream"
        },
        {
          "name": "stderr",
          "text": "100%|██████████| 182/182 [00:51<00:00,  3.57it/s]",
          "output_type": "stream"
        },
        {
          "name": "stdout",
          "text": "Epoch 127/150, Loss: 0.3473, Train IoU: 0.5491\n",
          "output_type": "stream"
        },
        {
          "name": "stderr",
          "text": "\n",
          "output_type": "stream"
        },
        {
          "name": "stdout",
          "text": "Validation Loss: 0.4303, Validation IoU: 0.4808\nEpoch 128/150\n",
          "output_type": "stream"
        },
        {
          "name": "stderr",
          "text": "100%|██████████| 182/182 [00:51<00:00,  3.56it/s]",
          "output_type": "stream"
        },
        {
          "name": "stdout",
          "text": "Epoch 128/150, Loss: 0.3465, Train IoU: 0.5501\n",
          "output_type": "stream"
        },
        {
          "name": "stderr",
          "text": "\n",
          "output_type": "stream"
        },
        {
          "name": "stdout",
          "text": "Validation Loss: 0.4295, Validation IoU: 0.4812\nEpoch 129/150\n",
          "output_type": "stream"
        },
        {
          "name": "stderr",
          "text": "100%|██████████| 182/182 [00:51<00:00,  3.56it/s]",
          "output_type": "stream"
        },
        {
          "name": "stdout",
          "text": "Epoch 129/150, Loss: 0.3455, Train IoU: 0.5503\n",
          "output_type": "stream"
        },
        {
          "name": "stderr",
          "text": "\n",
          "output_type": "stream"
        },
        {
          "name": "stdout",
          "text": "Validation Loss: 0.4295, Validation IoU: 0.4807\nEpoch 130/150\n",
          "output_type": "stream"
        },
        {
          "name": "stderr",
          "text": "100%|██████████| 182/182 [00:51<00:00,  3.57it/s]",
          "output_type": "stream"
        },
        {
          "name": "stdout",
          "text": "Epoch 130/150, Loss: 0.3459, Train IoU: 0.5503\n",
          "output_type": "stream"
        },
        {
          "name": "stderr",
          "text": "\n",
          "output_type": "stream"
        },
        {
          "name": "stdout",
          "text": "Validation Loss: 0.4292, Validation IoU: 0.4819\nEpoch 131/150\n",
          "output_type": "stream"
        },
        {
          "name": "stderr",
          "text": "100%|██████████| 182/182 [00:51<00:00,  3.56it/s]",
          "output_type": "stream"
        },
        {
          "name": "stdout",
          "text": "Epoch 131/150, Loss: 0.3450, Train IoU: 0.5508\n",
          "output_type": "stream"
        },
        {
          "name": "stderr",
          "text": "\n",
          "output_type": "stream"
        },
        {
          "name": "stdout",
          "text": "Validation Loss: 0.4294, Validation IoU: 0.4812\nEpoch 132/150\n",
          "output_type": "stream"
        },
        {
          "name": "stderr",
          "text": "100%|██████████| 182/182 [00:51<00:00,  3.56it/s]",
          "output_type": "stream"
        },
        {
          "name": "stdout",
          "text": "Epoch 132/150, Loss: 0.3442, Train IoU: 0.5514\n",
          "output_type": "stream"
        },
        {
          "name": "stderr",
          "text": "\n",
          "output_type": "stream"
        },
        {
          "name": "stdout",
          "text": "Validation Loss: 0.4302, Validation IoU: 0.4804\nEpoch 133/150\n",
          "output_type": "stream"
        },
        {
          "name": "stderr",
          "text": "100%|██████████| 182/182 [00:51<00:00,  3.57it/s]",
          "output_type": "stream"
        },
        {
          "name": "stdout",
          "text": "Epoch 133/150, Loss: 0.3441, Train IoU: 0.5519\n",
          "output_type": "stream"
        },
        {
          "name": "stderr",
          "text": "\n",
          "output_type": "stream"
        },
        {
          "name": "stdout",
          "text": "Validation Loss: 0.4299, Validation IoU: 0.4815\nEpoch 134/150\n",
          "output_type": "stream"
        },
        {
          "name": "stderr",
          "text": "100%|██████████| 182/182 [00:51<00:00,  3.56it/s]",
          "output_type": "stream"
        },
        {
          "name": "stdout",
          "text": "Epoch 134/150, Loss: 0.3435, Train IoU: 0.5522\n",
          "output_type": "stream"
        },
        {
          "name": "stderr",
          "text": "\n",
          "output_type": "stream"
        },
        {
          "name": "stdout",
          "text": "Validation Loss: 0.4285, Validation IoU: 0.4813\nEpoch 135/150\n",
          "output_type": "stream"
        },
        {
          "name": "stderr",
          "text": "100%|██████████| 182/182 [00:51<00:00,  3.56it/s]",
          "output_type": "stream"
        },
        {
          "name": "stdout",
          "text": "Epoch 135/150, Loss: 0.3435, Train IoU: 0.5521\n",
          "output_type": "stream"
        },
        {
          "name": "stderr",
          "text": "\n",
          "output_type": "stream"
        },
        {
          "name": "stdout",
          "text": "Validation Loss: 0.4287, Validation IoU: 0.4814\nEpoch 136/150\n",
          "output_type": "stream"
        },
        {
          "name": "stderr",
          "text": "100%|██████████| 182/182 [00:51<00:00,  3.55it/s]",
          "output_type": "stream"
        },
        {
          "name": "stdout",
          "text": "Epoch 136/150, Loss: 0.3424, Train IoU: 0.5533\n",
          "output_type": "stream"
        },
        {
          "name": "stderr",
          "text": "\n",
          "output_type": "stream"
        },
        {
          "name": "stdout",
          "text": "Validation Loss: 0.4294, Validation IoU: 0.4814\nEpoch 137/150\n",
          "output_type": "stream"
        },
        {
          "name": "stderr",
          "text": "100%|██████████| 182/182 [00:51<00:00,  3.56it/s]",
          "output_type": "stream"
        },
        {
          "name": "stdout",
          "text": "Epoch 137/150, Loss: 0.3429, Train IoU: 0.5529\n",
          "output_type": "stream"
        },
        {
          "name": "stderr",
          "text": "\n",
          "output_type": "stream"
        },
        {
          "name": "stdout",
          "text": "Validation Loss: 0.4297, Validation IoU: 0.4808\nEpoch 138/150\n",
          "output_type": "stream"
        },
        {
          "name": "stderr",
          "text": "100%|██████████| 182/182 [00:51<00:00,  3.56it/s]",
          "output_type": "stream"
        },
        {
          "name": "stdout",
          "text": "Epoch 138/150, Loss: 0.3422, Train IoU: 0.5534\n",
          "output_type": "stream"
        },
        {
          "name": "stderr",
          "text": "\n",
          "output_type": "stream"
        },
        {
          "name": "stdout",
          "text": "Validation Loss: 0.4298, Validation IoU: 0.4813\nEpoch 139/150\n",
          "output_type": "stream"
        },
        {
          "name": "stderr",
          "text": "100%|██████████| 182/182 [00:51<00:00,  3.56it/s]",
          "output_type": "stream"
        },
        {
          "name": "stdout",
          "text": "Epoch 139/150, Loss: 0.3415, Train IoU: 0.5538\n",
          "output_type": "stream"
        },
        {
          "name": "stderr",
          "text": "\n",
          "output_type": "stream"
        },
        {
          "name": "stdout",
          "text": "Validation Loss: 0.4299, Validation IoU: 0.4805\nEpoch 140/150\n",
          "output_type": "stream"
        },
        {
          "name": "stderr",
          "text": "100%|██████████| 182/182 [00:51<00:00,  3.56it/s]",
          "output_type": "stream"
        },
        {
          "name": "stdout",
          "text": "Epoch 140/150, Loss: 0.3413, Train IoU: 0.5542\n",
          "output_type": "stream"
        },
        {
          "name": "stderr",
          "text": "\n",
          "output_type": "stream"
        },
        {
          "name": "stdout",
          "text": "Validation Loss: 0.4283, Validation IoU: 0.4820\nEpoch 141/150\n",
          "output_type": "stream"
        },
        {
          "name": "stderr",
          "text": "100%|██████████| 182/182 [00:51<00:00,  3.56it/s]",
          "output_type": "stream"
        },
        {
          "name": "stdout",
          "text": "Epoch 141/150, Loss: 0.3411, Train IoU: 0.5542\n",
          "output_type": "stream"
        },
        {
          "name": "stderr",
          "text": "\n",
          "output_type": "stream"
        },
        {
          "name": "stdout",
          "text": "Validation Loss: 0.4295, Validation IoU: 0.4810\nEpoch 142/150\n",
          "output_type": "stream"
        },
        {
          "name": "stderr",
          "text": "100%|██████████| 182/182 [00:51<00:00,  3.56it/s]",
          "output_type": "stream"
        },
        {
          "name": "stdout",
          "text": "Epoch 142/150, Loss: 0.3400, Train IoU: 0.5550\n",
          "output_type": "stream"
        },
        {
          "name": "stderr",
          "text": "\n",
          "output_type": "stream"
        },
        {
          "name": "stdout",
          "text": "Validation Loss: 0.4295, Validation IoU: 0.4815\nEpoch 143/150\n",
          "output_type": "stream"
        },
        {
          "name": "stderr",
          "text": "100%|██████████| 182/182 [00:51<00:00,  3.57it/s]",
          "output_type": "stream"
        },
        {
          "name": "stdout",
          "text": "Epoch 143/150, Loss: 0.3397, Train IoU: 0.5554\n",
          "output_type": "stream"
        },
        {
          "name": "stderr",
          "text": "\n",
          "output_type": "stream"
        },
        {
          "name": "stdout",
          "text": "Validation Loss: 0.4294, Validation IoU: 0.4816\nEpoch 144/150\n",
          "output_type": "stream"
        },
        {
          "name": "stderr",
          "text": "100%|██████████| 182/182 [00:51<00:00,  3.56it/s]",
          "output_type": "stream"
        },
        {
          "name": "stdout",
          "text": "Epoch 144/150, Loss: 0.3396, Train IoU: 0.5554\n",
          "output_type": "stream"
        },
        {
          "name": "stderr",
          "text": "\n",
          "output_type": "stream"
        },
        {
          "name": "stdout",
          "text": "Validation Loss: 0.4294, Validation IoU: 0.4815\nEpoch 145/150\n",
          "output_type": "stream"
        },
        {
          "name": "stderr",
          "text": "100%|██████████| 182/182 [00:50<00:00,  3.57it/s]",
          "output_type": "stream"
        },
        {
          "name": "stdout",
          "text": "Epoch 145/150, Loss: 0.3398, Train IoU: 0.5549\n",
          "output_type": "stream"
        },
        {
          "name": "stderr",
          "text": "\n",
          "output_type": "stream"
        },
        {
          "name": "stdout",
          "text": "Validation Loss: 0.4296, Validation IoU: 0.4819\nEpoch 146/150\n",
          "output_type": "stream"
        },
        {
          "name": "stderr",
          "text": "100%|██████████| 182/182 [00:51<00:00,  3.56it/s]",
          "output_type": "stream"
        },
        {
          "name": "stdout",
          "text": "Epoch 146/150, Loss: 0.3385, Train IoU: 0.5562\n",
          "output_type": "stream"
        },
        {
          "name": "stderr",
          "text": "\n",
          "output_type": "stream"
        },
        {
          "name": "stdout",
          "text": "Validation Loss: 0.4302, Validation IoU: 0.4811\nEpoch 147/150\n",
          "output_type": "stream"
        },
        {
          "name": "stderr",
          "text": "100%|██████████| 182/182 [00:51<00:00,  3.55it/s]",
          "output_type": "stream"
        },
        {
          "name": "stdout",
          "text": "Epoch 147/150, Loss: 0.3376, Train IoU: 0.5571\n",
          "output_type": "stream"
        },
        {
          "name": "stderr",
          "text": "\n",
          "output_type": "stream"
        },
        {
          "name": "stdout",
          "text": "Validation Loss: 0.4313, Validation IoU: 0.4795\nEpoch 148/150\n",
          "output_type": "stream"
        },
        {
          "name": "stderr",
          "text": "100%|██████████| 182/182 [00:51<00:00,  3.57it/s]",
          "output_type": "stream"
        },
        {
          "name": "stdout",
          "text": "Epoch 148/150, Loss: 0.3382, Train IoU: 0.5566\n",
          "output_type": "stream"
        },
        {
          "name": "stderr",
          "text": "\n",
          "output_type": "stream"
        },
        {
          "name": "stdout",
          "text": "Validation Loss: 0.4302, Validation IoU: 0.4810\nEpoch 149/150\n",
          "output_type": "stream"
        },
        {
          "name": "stderr",
          "text": "100%|██████████| 182/182 [00:51<00:00,  3.56it/s]",
          "output_type": "stream"
        },
        {
          "name": "stdout",
          "text": "Epoch 149/150, Loss: 0.3375, Train IoU: 0.5571\n",
          "output_type": "stream"
        },
        {
          "name": "stderr",
          "text": "\n",
          "output_type": "stream"
        },
        {
          "name": "stdout",
          "text": "Validation Loss: 0.4302, Validation IoU: 0.4810\nEpoch 150/150\n",
          "output_type": "stream"
        },
        {
          "name": "stderr",
          "text": "100%|██████████| 182/182 [00:51<00:00,  3.55it/s]",
          "output_type": "stream"
        },
        {
          "name": "stdout",
          "text": "Epoch 150/150, Loss: 0.3372, Train IoU: 0.5574\n",
          "output_type": "stream"
        },
        {
          "name": "stderr",
          "text": "\n",
          "output_type": "stream"
        },
        {
          "name": "stdout",
          "text": "Validation Loss: 0.4301, Validation IoU: 0.4810\n",
          "output_type": "stream"
        }
      ],
      "execution_count": null
    }
  ]
}